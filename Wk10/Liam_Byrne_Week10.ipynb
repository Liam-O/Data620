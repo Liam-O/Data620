{
 "cells": [
  {
   "cell_type": "markdown",
   "metadata": {},
   "source": [
    "##### Liam Byrne\n",
    "##### DATA 620 - Web Analytics\n",
    "##### Fall - 2017\n",
    "\n",
    "# Week 10\n",
    "\n",
    "***\n",
    "\n",
    "## Introduction\n",
    "Classification of documents can have many uses; from isolating documents of interest from large corpora to determining origins of texts. This exercise will explore an elementary step in text classification; an email spam filter.\n",
    "\n",
    "Using the [Spambase Data Set](http://archive.ics.uci.edu/ml/datasets/Spambase) from UCI's Machine Learning Repository, we will built, train and test a few classification models. The data set consists of extracted features (56 features covering things like specific word frequencies, punctuation frequencies and statistics on capital letters) and the emails labeled as either \"spam\" or \"ham\" (non-spam emails).\n",
    "\n",
    "We will first load in our data and import the required packages from Python."
   ]
  },
  {
   "cell_type": "code",
   "execution_count": 1,
   "metadata": {
    "collapsed": true
   },
   "outputs": [],
   "source": [
    "import pandas as pd\n",
    "from sklearn.model_selection import train_test_split\n",
    "from sklearn.pipeline import Pipeline\n",
    "from sklearn.preprocessing import Imputer\n",
    "from sklearn.ensemble import  RandomForestClassifier\n",
    "from sklearn.metrics import confusion_matrix\n",
    "from sklearn.metrics import classification_report\n",
    "from sklearn.neighbors import KNeighborsClassifier\n",
    "from sklearn import svm\n",
    "import matplotlib.pyplot as plt\n",
    "import numpy as np\n",
    "import re\n",
    "\n",
    "data_url = \"https://raw.githubusercontent.com/Liam-O/Data620/master/Wk10/spambase.data\"\n",
    "head_url = \"https://raw.githubusercontent.com/Liam-O/Data620/master/Wk10/spam_ham_header.csv\"\n",
    "\n",
    "# Get headers\n",
    "spam_ham_headers = pd.read_csv(head_url, header = None)\n",
    "\n",
    "# Read data to data frame\n",
    "mail_df = pd.read_csv(data_url, header = None, names = spam_ham_headers[0])"
   ]
  },
  {
   "cell_type": "markdown",
   "metadata": {},
   "source": [
    "The data will be split into training and testing sets; the latter will receive a conservative 33% holdout from the 4,601 cases. In order to test a few models, a function was created under the following metrics and purpose:\n",
    "\n",
    "+ Build a classification pipeline to streamline multi-use cases\n",
    "+ Impute (fill NAs via median) data fit from the training set only (i.e. values of \"unseen\" data will not affect the transformed median)\n",
    "+ Plot a normalized confusion matrix\n",
    "+ Output a classification report of precision, recall and F-score "
   ]
  },
  {
   "cell_type": "code",
   "execution_count": 2,
   "metadata": {
    "collapsed": true
   },
   "outputs": [],
   "source": [
    "X_train, X_test, y_train, y_test = train_test_split(mail_df.iloc[:,:-1], mail_df.spam_ham,\n",
    "                                                    test_size = 1/3, random_state = 2**7-1)\n",
    "\n",
    "def model_clf(X_trn, X_tst, Y_trn, Y_tst, clf):\n",
    "    \n",
    "    # Pipeline for classification -> will call fit & transform\n",
    "    # on training data and only transform on test data\n",
    "    spam_ham_clf = Pipeline([(\"imp\", Imputer(strategy = 'median')),\n",
    "                        (\"clf\", clf)])\n",
    "    \n",
    "    # Will only impute on training data\n",
    "    spam_ham_clf.fit(X_trn, Y_trn)\n",
    "    \n",
    "    y_pred = spam_ham_clf.predict(X_tst)\n",
    "    \n",
    "    conf_matrix = confusion_matrix(\n",
    "            Y_tst, y_pred)\n",
    "    \n",
    "    # Normalize confusion matrix\n",
    "    cm = conf_matrix.astype('float')/conf_matrix.sum(axis=1)[:, np.newaxis]\n",
    "    \n",
    "    # Get name of classifier\n",
    "    clf_model_name = re.findall('^\\w+(?=\\()',\n",
    "                                      np.str(spam_ham_clf.named_steps['clf']))[0]\n",
    "    \n",
    "    print(\"\\nConfusion Matrix for {}\".format(clf_model_name))\n",
    "    \n",
    "    class_names = [\"ham\", \"spam\"]\n",
    "    \n",
    "    plt.imshow(cm, interpolation='nearest', cmap=plt.cm.Blues)\n",
    "    plt.title(\"Normalized Confusion Matrix\")\n",
    "    plt.colorbar()\n",
    "    tick_marks = np.arange(2)\n",
    "    plt.xticks(tick_marks, class_names, rotation=45)\n",
    "    plt.yticks(tick_marks, class_names)\n",
    "\n",
    "    fmt = '.2f'\n",
    "    thresh = cm.max() / 2.\n",
    "    for i in range(0, 2):\n",
    "        for j in range(0,2):\n",
    "            plt.text(j, i, format(cm[i, j], fmt),\n",
    "                     horizontalalignment=\"center\",\n",
    "                     color=\"white\" if cm[i, j] > thresh else \"black\")\n",
    "\n",
    "    plt.tight_layout()\n",
    "    plt.ylabel('True Label')\n",
    "    plt.xlabel('Predicted Label')\n",
    "    plt.show()\n",
    "    \n",
    "    print(\"\\n\\nClassification Report for {}\".format(clf_model_name))\n",
    "    print(classification_report(Y_tst, y_pred, target_names = class_names))"
   ]
  },
  {
   "cell_type": "markdown",
   "metadata": {},
   "source": [
    "### Random Forest Classification\n",
    "\n",
    "Our first model will utilize a random forest classifier, which is essentially a very robust decision tree classifier. The random forest classifier will \"build\" numerous decision trees (with replacement) split on various features and choose the best model.\n",
    "\n",
    "We will see how a random tree classification is able to predict spam/ham in our testing data below."
   ]
  },
  {
   "cell_type": "code",
   "execution_count": 3,
   "metadata": {},
   "outputs": [
    {
     "name": "stdout",
     "output_type": "stream",
     "text": [
      "\n",
      "Confusion Matrix for RandomForestClassifier\n"
     ]
    },
    {
     "data": {
      "image/png": "[encoded data removed]",
      "text/plain": [
       "<matplotlib.figure.Figure at 0x227b7d8e518>"
      ]
     },
     "metadata": {},
     "output_type": "display_data"
    },
    {
     "name": "stdout",
     "output_type": "stream",
     "text": [
      "\n",
      "\n",
      "Classification Report for RandomForestClassifier\n",
      "             precision    recall  f1-score   support\n",
      "\n",
      "        ham       0.96      0.96      0.96       908\n",
      "       spam       0.95      0.93      0.94       626\n",
      "\n",
      "avg / total       0.95      0.95      0.95      1534\n",
      "\n"
     ]
    }
   ],
   "source": [
    "rf_clf = RandomForestClassifier(n_estimators=100,\n",
    "                                max_features=None,\n",
    "                                n_jobs = -1,\n",
    "                                random_state = 2**7-1)\n",
    "model_clf(X_train, X_test, y_train, y_test, rf_clf)"
   ]
  },
  {
   "cell_type": "markdown",
   "metadata": {},
   "source": [
    "An average F-Score (the harmonic mean of the precision and recall) of 95% is very good for a first try. Let us try another classification model to see if we can improve."
   ]
  },
  {
   "cell_type": "markdown",
   "metadata": {},
   "source": [
    "### K Nearest Neighbors Classification\n",
    "\n",
    "Nearest neighbor classification does not necessarily fit a model. It stores the training data and classifies the testing data by its \"closeness\" to its neighboring training data. We will use three (3) as the number of neighbors, which means given the test data's features, the algorithm will give the case the dominant classification of the closest three (3) training cases."
   ]
  },
  {
   "cell_type": "code",
   "execution_count": 4,
   "metadata": {},
   "outputs": [
    {
     "name": "stdout",
     "output_type": "stream",
     "text": [
      "\n",
      "Confusion Matrix for KNeighborsClassifier\n"
     ]
    },
    {
     "data": {
      "image/png": "[encoded data removed]",
      "text/plain": [
       "<matplotlib.figure.Figure at 0x227b7f2b240>"
      ]
     },
     "metadata": {},
     "output_type": "display_data"
    },
    {
     "name": "stdout",
     "output_type": "stream",
     "text": [
      "\n",
      "\n",
      "Classification Report for KNeighborsClassifier\n",
      "             precision    recall  f1-score   support\n",
      "\n",
      "        ham       0.83      0.84      0.84       908\n",
      "       spam       0.77      0.75      0.76       626\n",
      "\n",
      "avg / total       0.80      0.80      0.80      1534\n",
      "\n"
     ]
    }
   ],
   "source": [
    "nn_clf = KNeighborsClassifier(n_neighbors = 3, n_jobs = -1)\n",
    "model_clf(X_train, X_test, y_train, y_test, nn_clf)"
   ]
  },
  {
   "cell_type": "markdown",
   "metadata": {},
   "source": [
    "The nearest neighbor classification did much worse (~80% F-Score) relative to  our random forest model (95%).\n",
    "\n",
    "Let's try one more classifier to see if any improvement is possible."
   ]
  },
  {
   "cell_type": "markdown",
   "metadata": {},
   "source": [
    "### Support Vector Machines\n",
    "\n",
    "Support Vector Machines (SVMs) builds a model as points in multidimensional space from the training data. From the gaps between the respective labeled data in this multidimensional space, dividing partitions are created to best group the labeled data. When the test data is introduced, whatever boundary it finds itself in is its resulting classification."
   ]
  },
  {
   "cell_type": "code",
   "execution_count": 5,
   "metadata": {},
   "outputs": [
    {
     "name": "stdout",
     "output_type": "stream",
     "text": [
      "\n",
      "Confusion Matrix for SVC\n"
     ]
    },
    {
     "data": {
      "image/png": "[encoded data removed]",
      "text/plain": [
       "<matplotlib.figure.Figure at 0x227b89837f0>"
      ]
     },
     "metadata": {},
     "output_type": "display_data"
    },
    {
     "name": "stdout",
     "output_type": "stream",
     "text": [
      "\n",
      "\n",
      "Classification Report for SVC\n",
      "             precision    recall  f1-score   support\n",
      "\n",
      "        ham       0.87      0.83      0.85       908\n",
      "       spam       0.77      0.82      0.80       626\n",
      "\n",
      "avg / total       0.83      0.83      0.83      1534\n",
      "\n"
     ]
    }
   ],
   "source": [
    "svm_clf = svm.SVC(random_state = 2**7-1)\n",
    "model_clf(X_train, X_test, y_train, y_test, svm_clf)"
   ]
  },
  {
   "cell_type": "markdown",
   "metadata": {},
   "source": [
    "The SVM classification did much slightly better (~83% F-Score) relative to the Nearest Neighbors Classification (~80% F-Score).\n",
    "\n",
    "The random forest classification model did by far the best with a ~95% F-Score."
   ]
  }
 ],
 "metadata": {
  "anaconda-cloud": {},
  "kernelspec": {
   "display_name": "Python [conda env:py36]",
   "language": "python",
   "name": "conda-env-py36-py"
  },
  "language_info": {
   "codemirror_mode": {
    "name": "ipython",
    "version": 3
   },
   "file_extension": ".py",
   "mimetype": "text/x-python",
   "name": "python",
   "nbconvert_exporter": "python",
   "pygments_lexer": "ipython3",
   "version": "3.6.1"
  }
 },
 "nbformat": 4,
 "nbformat_minor": 2
}
