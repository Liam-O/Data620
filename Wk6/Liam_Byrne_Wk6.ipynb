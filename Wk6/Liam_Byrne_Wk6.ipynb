{
 "cells": [
  {
   "cell_type": "markdown",
   "metadata": {
    "deletable": true,
    "editable": true
   },
   "source": [
    "##### Liam Byrne\n",
    "##### DATA 620 - Web Analytics\n",
    "##### Fall - 2017\n",
    "\n",
    "# Week 6\n",
    "\n",
    "***\n",
    "\n",
    "## Introduction\n",
    "A simple two-node network, which contains the attendance of 18 Southern Women at 14 social events, is used in this network analysis. In order to analyze this network, it needs to be transformed into a one-mode network either containing the network relationships between the women who attended the same function or the network relationships between events attended by the same women. We will accomplish this by describing this two-mode network as a bipartite graph.\n",
    "\n",
    "We are asked, what we can infer about the relationships between **(1)** the women, and **(2)** the social events? This will be done by looking at the degree centrality and eigenvector centrality of the respective one-mode networks."
   ]
  },
  {
   "cell_type": "markdown",
   "metadata": {
    "deletable": true,
    "editable": true
   },
   "source": [
    "## Loading the Data\n",
    "We will first load the data and create a graph from the adjacency matrix obtained from [UCINET IV Datasets](http://vlado.fmf.uni-lj.si/pub/networks/data/ucinet/ucidata.htm#davis), which was wrangled into a csv file due to its UCINET DL format:"
   ]
  },
  {
   "cell_type": "code",
   "execution_count": 1,
   "metadata": {
    "collapsed": true,
    "deletable": true,
    "editable": true
   },
   "outputs": [],
   "source": [
    "import pandas as pd\n",
    "import networkx as nx\n",
    "from networkx.algorithms import bipartite\n",
    "from IPython.display import display\n",
    "\n",
    "# Source data saved as a csv and sent to repo\n",
    "url = \"https://raw.githubusercontent.com/Liam-O/Data620/master/Wk6/davis.csv\"\n",
    "\n",
    "# Adjacency list stored as Pandas df\n",
    "davis = pd.read_csv(url, index_col = 0)\n",
    "davis_g = nx.Graph()"
   ]
  },
  {
   "cell_type": "markdown",
   "metadata": {
    "deletable": true,
    "editable": true
   },
   "source": [
    "## Methodology Used to Create One-Mode Projections\n",
    "*Networkx* does not have any native functions to create a two-mode graph so the following methodology was used.\n",
    "+ Create a bipartite graph using the node attribute ```bipartite = 0``` to signify nodes of women and ```bipartite = 1``` to signify the nodes of events.\n",
    "+ Using *Networkx's* algorithm package, *bipartite*, create node sets for each one-mode network.\n",
    "+ Using *Networkx's* algorithm package, *bipartite*, create a projected weighted graph of the one-mode network, where the weights refer to the co-occurrences (i.e. the number of events two individuals have co-attended or vice-versa)."
   ]
  },
  {
   "cell_type": "code",
   "execution_count": 2,
   "metadata": {
    "collapsed": true,
    "deletable": true,
    "editable": true
   },
   "outputs": [],
   "source": [
    "# Create a bipartite graph with:\n",
    "# Women --> Bipartite = 0; Event --> Bipartite = 1\n",
    "davis_g.add_nodes_from(davis.index, bipartite = 0)\n",
    "davis_g.add_nodes_from(davis.columns, bipartite = 1)\n",
    "\n",
    "# Loop through adjacency matrix to create edge list\n",
    "davis_edges = list()\n",
    "for i in davis:\n",
    "    for j in davis[i][davis[i] != 0].index:\n",
    "        davis_edges.append((j, i))\n",
    "\n",
    "# Insert edge list into graph\n",
    "davis_g.add_edges_from(davis_edges)\n",
    "\n",
    "\n",
    "# Create node sets for the Women and Event nodes\n",
    "women_nodes, event_nodes = bipartite.sets(davis_g)\n",
    "\n",
    "# Create a projected, weighted one-mode network for the Women and Events\n",
    "women_projected = bipartite.weighted_projected_graph(davis_g, women_nodes)\n",
    "event_projected = b = bipartite.weighted_projected_graph(davis_g, event_nodes)"
   ]
  },
  {
   "cell_type": "markdown",
   "metadata": {
    "deletable": true,
    "editable": true
   },
   "source": [
    "## Looking at Centrality\n",
    "From the projected graph, a set of nodes have connected edges if a pair of women attended the same function or a pair of functions were attended by the same woman. For the respective centrality measurements used, it would be helpful to define what each would mean for each mode.\n",
    "### Centrality Measurements for Women\n",
    "#### Closeness Centrality\n",
    "Looking at the minimum social distance between the women can explain how close they could be to individuals within the network. This is done by taking the inverse of the sum of shortest paths from a woman *u* to all other women *v* and multiplying by the sum of minimum of possible distances *n-1*. This centrality can measure the closeness to individuals relative to those in the network. Meaning, whoever has the largest closeness centrality would be most able to serve as the shortest conduit between any two non-directly connected women in a connected network. We will use the inverse of the weight, which will give a shorter path to the individual with the more connections.\n",
    "#### Eigenvector Centrality\n",
    "Women directly connected to highly connected women in the social circles have a degree of influence and, possibly, status within the social network. The number of events that they share with these The edge weight, i.e. the number of events two individuals attended. "
   ]
  },
  {
   "cell_type": "code",
   "execution_count": 3,
   "metadata": {
    "collapsed": false,
    "deletable": true,
    "editable": true
   },
   "outputs": [
    {
     "name": "stdout",
     "output_type": "stream",
     "text": [
      "Women Centrality:\n"
     ]
    },
    {
     "data": {
      "text/html": [
       "<div>\n",
       "<table border=\"1\" class=\"dataframe\">\n",
       "  <thead>\n",
       "    <tr style=\"text-align: right;\">\n",
       "      <th></th>\n",
       "      <th>closeness_centrality</th>\n",
       "      <th>eigenvector_centrality</th>\n",
       "    </tr>\n",
       "  </thead>\n",
       "  <tbody>\n",
       "    <tr>\n",
       "      <th>BRENDA</th>\n",
       "      <td>2.103093</td>\n",
       "      <td>0.284342</td>\n",
       "    </tr>\n",
       "    <tr>\n",
       "      <th>CHARLOTTE</th>\n",
       "      <td>1.672131</td>\n",
       "      <td>0.160557</td>\n",
       "    </tr>\n",
       "    <tr>\n",
       "      <th>DOROTHY</th>\n",
       "      <td>1.888889</td>\n",
       "      <td>0.206621</td>\n",
       "    </tr>\n",
       "    <tr>\n",
       "      <th>ELEANOR</th>\n",
       "      <td>1.906542</td>\n",
       "      <td>0.225475</td>\n",
       "    </tr>\n",
       "    <tr>\n",
       "      <th>EVELYN</th>\n",
       "      <td>2.241758</td>\n",
       "      <td>0.299136</td>\n",
       "    </tr>\n",
       "    <tr>\n",
       "      <th>FLORA</th>\n",
       "      <td>1.171644</td>\n",
       "      <td>0.077523</td>\n",
       "    </tr>\n",
       "    <tr>\n",
       "      <th>FRANCES</th>\n",
       "      <td>1.743590</td>\n",
       "      <td>0.203194</td>\n",
       "    </tr>\n",
       "    <tr>\n",
       "      <th>HELEN</th>\n",
       "      <td>2.079208</td>\n",
       "      <td>0.249641</td>\n",
       "    </tr>\n",
       "    <tr>\n",
       "      <th>KATHERINE</th>\n",
       "      <td>2.048193</td>\n",
       "      <td>0.242635</td>\n",
       "    </tr>\n",
       "    <tr>\n",
       "      <th>LAURA</th>\n",
       "      <td>2.081633</td>\n",
       "      <td>0.280929</td>\n",
       "    </tr>\n",
       "    <tr>\n",
       "      <th>MYRNA</th>\n",
       "      <td>1.888889</td>\n",
       "      <td>0.206621</td>\n",
       "    </tr>\n",
       "    <tr>\n",
       "      <th>NORA</th>\n",
       "      <td>2.425272</td>\n",
       "      <td>0.270365</td>\n",
       "    </tr>\n",
       "    <tr>\n",
       "      <th>OLIVIA</th>\n",
       "      <td>1.171644</td>\n",
       "      <td>0.077523</td>\n",
       "    </tr>\n",
       "    <tr>\n",
       "      <th>PEARL</th>\n",
       "      <td>1.805310</td>\n",
       "      <td>0.186771</td>\n",
       "    </tr>\n",
       "    <tr>\n",
       "      <th>RUTH</th>\n",
       "      <td>2.060606</td>\n",
       "      <td>0.238293</td>\n",
       "    </tr>\n",
       "    <tr>\n",
       "      <th>SYLVIA</th>\n",
       "      <td>2.466321</td>\n",
       "      <td>0.290990</td>\n",
       "    </tr>\n",
       "    <tr>\n",
       "      <th>THERESA</th>\n",
       "      <td>2.625000</td>\n",
       "      <td>0.333824</td>\n",
       "    </tr>\n",
       "    <tr>\n",
       "      <th>VERNE</th>\n",
       "      <td>2.153846</td>\n",
       "      <td>0.231013</td>\n",
       "    </tr>\n",
       "  </tbody>\n",
       "</table>\n",
       "</div>"
      ],
      "text/plain": [
       "           closeness_centrality  eigenvector_centrality\n",
       "BRENDA                 2.103093                0.284342\n",
       "CHARLOTTE              1.672131                0.160557\n",
       "DOROTHY                1.888889                0.206621\n",
       "ELEANOR                1.906542                0.225475\n",
       "EVELYN                 2.241758                0.299136\n",
       "FLORA                  1.171644                0.077523\n",
       "FRANCES                1.743590                0.203194\n",
       "HELEN                  2.079208                0.249641\n",
       "KATHERINE              2.048193                0.242635\n",
       "LAURA                  2.081633                0.280929\n",
       "MYRNA                  1.888889                0.206621\n",
       "NORA                   2.425272                0.270365\n",
       "OLIVIA                 1.171644                0.077523\n",
       "PEARL                  1.805310                0.186771\n",
       "RUTH                   2.060606                0.238293\n",
       "SYLVIA                 2.466321                0.290990\n",
       "THERESA                2.625000                0.333824\n",
       "VERNE                  2.153846                0.231013"
      ]
     },
     "metadata": {},
     "output_type": "display_data"
    }
   ],
   "source": [
    "# list comp for inverse weight\n",
    "inverse_weight = {(u, v) : 1.0/d[\"weight\"] for (u, v, d) in women_projected.edges(data = True)}\n",
    "# Set inverse weight as attribute to use as distance\n",
    "nx.set_edge_attributes(women_projected, \"inverse_weight\", inverse_weight)\n",
    "# Create dataframe to display centrality\n",
    "women_central = pd.DataFrame({\n",
    "        \"closeness_centrality\": nx.closeness_centrality(women_projected, distance = \"inverse_weight\"),\n",
    "        \"eigenvector_centrality\": nx.eigenvector_centrality(women_projected)})\n",
    "print(\"Women Centrality:\")\n",
    "display(women_central)"
   ]
  },
  {
   "cell_type": "markdown",
   "metadata": {
    "deletable": true,
    "editable": true
   },
   "source": [
    "The top three women for closeness centrality are:\n",
    "1. THERESA: 2.62\n",
    "2. SYLVIA: 2.47\n",
    "3. NORA: 2.43\n",
    "\n",
    "The top three women for eigenvector centrality are:\n",
    "1. THERESA: 0.334\n",
    "2. EVELYN: 0.299\n",
    "3. SYLVIA: 0.291\n",
    "\n",
    "From the above centrality, it appears that ```THERESA``` is closest to most individuals and holds the most influence."
   ]
  },
  {
   "cell_type": "markdown",
   "metadata": {
    "deletable": true,
    "editable": true
   },
   "source": [
    "### Centrality Measurements for Events\n",
    "#### Closeness Centrality\n",
    "A high closeness centrality with an event would be a signal that the event is close to most of the events in the social network. This would be a good event to attend to meet the most people associated with other events; increasing the diversity of events one could be invited to.\n",
    "#### Eigenvector Centrality\n",
    "Events that have a large eigenvector centrality could serve as a signal for a event that could introduce them to the largest circle of women in the social network."
   ]
  },
  {
   "cell_type": "code",
   "execution_count": 4,
   "metadata": {
    "collapsed": false,
    "deletable": true,
    "editable": true
   },
   "outputs": [
    {
     "name": "stdout",
     "output_type": "stream",
     "text": [
      "Event Centrality:\n"
     ]
    },
    {
     "data": {
      "text/html": [
       "<div>\n",
       "<table border=\"1\" class=\"dataframe\">\n",
       "  <thead>\n",
       "    <tr style=\"text-align: right;\">\n",
       "      <th></th>\n",
       "      <th>closeness_centrality</th>\n",
       "      <th>eigenvector_centrality</th>\n",
       "    </tr>\n",
       "  </thead>\n",
       "  <tbody>\n",
       "    <tr>\n",
       "      <th>E1</th>\n",
       "      <td>2.037440</td>\n",
       "      <td>0.152110</td>\n",
       "    </tr>\n",
       "    <tr>\n",
       "      <th>E10</th>\n",
       "      <td>2.840052</td>\n",
       "      <td>0.228261</td>\n",
       "    </tr>\n",
       "    <tr>\n",
       "      <th>E11</th>\n",
       "      <td>1.750561</td>\n",
       "      <td>0.112344</td>\n",
       "    </tr>\n",
       "    <tr>\n",
       "      <th>E12</th>\n",
       "      <td>3.069140</td>\n",
       "      <td>0.255120</td>\n",
       "    </tr>\n",
       "    <tr>\n",
       "      <th>E13</th>\n",
       "      <td>2.266501</td>\n",
       "      <td>0.177435</td>\n",
       "    </tr>\n",
       "    <tr>\n",
       "      <th>E14</th>\n",
       "      <td>2.266501</td>\n",
       "      <td>0.177435</td>\n",
       "    </tr>\n",
       "    <tr>\n",
       "      <th>E2</th>\n",
       "      <td>2.037440</td>\n",
       "      <td>0.161062</td>\n",
       "    </tr>\n",
       "    <tr>\n",
       "      <th>E3</th>\n",
       "      <td>2.874693</td>\n",
       "      <td>0.251833</td>\n",
       "    </tr>\n",
       "    <tr>\n",
       "      <th>E4</th>\n",
       "      <td>2.135036</td>\n",
       "      <td>0.184287</td>\n",
       "    </tr>\n",
       "    <tr>\n",
       "      <th>E5</th>\n",
       "      <td>3.245492</td>\n",
       "      <td>0.304622</td>\n",
       "    </tr>\n",
       "    <tr>\n",
       "      <th>E6</th>\n",
       "      <td>3.134328</td>\n",
       "      <td>0.316064</td>\n",
       "    </tr>\n",
       "    <tr>\n",
       "      <th>E7</th>\n",
       "      <td>3.305085</td>\n",
       "      <td>0.369435</td>\n",
       "    </tr>\n",
       "    <tr>\n",
       "      <th>E8</th>\n",
       "      <td>4.063004</td>\n",
       "      <td>0.451928</td>\n",
       "    </tr>\n",
       "    <tr>\n",
       "      <th>E9</th>\n",
       "      <td>3.397635</td>\n",
       "      <td>0.356862</td>\n",
       "    </tr>\n",
       "  </tbody>\n",
       "</table>\n",
       "</div>"
      ],
      "text/plain": [
       "     closeness_centrality  eigenvector_centrality\n",
       "E1               2.037440                0.152110\n",
       "E10              2.840052                0.228261\n",
       "E11              1.750561                0.112344\n",
       "E12              3.069140                0.255120\n",
       "E13              2.266501                0.177435\n",
       "E14              2.266501                0.177435\n",
       "E2               2.037440                0.161062\n",
       "E3               2.874693                0.251833\n",
       "E4               2.135036                0.184287\n",
       "E5               3.245492                0.304622\n",
       "E6               3.134328                0.316064\n",
       "E7               3.305085                0.369435\n",
       "E8               4.063004                0.451928\n",
       "E9               3.397635                0.356862"
      ]
     },
     "metadata": {},
     "output_type": "display_data"
    }
   ],
   "source": [
    "# list comp for inverse weight\n",
    "inverse_weight = {(u, v) : 1.0/d[\"weight\"] for (u, v, d) in event_projected.edges(data = True)}\n",
    "# Set inverse weight as attribute to use as distance\n",
    "nx.set_edge_attributes(event_projected, \"inverse_weight\", inverse_weight)\n",
    "    \n",
    "event_central = pd.DataFrame({\n",
    "        \"closeness_centrality\": nx.closeness_centrality(event_projected, distance = \"inverse_weight\"),\n",
    "        \"eigenvector_centrality\": nx.eigenvector_centrality(event_projected, weight = \"weight\")})\n",
    "\n",
    "print(\"Event Centrality:\")\n",
    "display(event_central)"
   ]
  },
  {
   "cell_type": "markdown",
   "metadata": {
    "deletable": true,
    "editable": true
   },
   "source": [
    "The top three events for closeness centrality are:\n",
    "1. Event E8: 4.06\n",
    "2. Event E9: 3.4\n",
    "3. Event E7: 3.31\n",
    "\n",
    "The top three events for eigenvector centrality are:\n",
    "1. Event E8: 0.452\n",
    "2. Event E7: 0.369\n",
    "3. Event E9: 0.357\n",
    "\n",
    "From the above centrality, it appears that ```Event E8``` would expose one to the most individuals and be the best place to expand one's social footprint."
   ]
  }
 ],
 "metadata": {
  "kernelspec": {
   "display_name": "Python 2",
   "language": "python",
   "name": "python2"
  },
  "language_info": {
   "codemirror_mode": {
    "name": "ipython",
    "version": 2
   },
   "file_extension": ".py",
   "mimetype": "text/x-python",
   "name": "python",
   "nbconvert_exporter": "python",
   "pygments_lexer": "ipython2",
   "version": "2.7.10"
  }
 },
 "nbformat": 4,
 "nbformat_minor": 2
}
