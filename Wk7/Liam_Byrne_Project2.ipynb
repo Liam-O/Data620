{
 "cells": [
  {
   "cell_type": "markdown",
   "metadata": {},
   "source": [
    "##### Liam Byrne\n",
    "##### DATA 620 - Web Analytics\n",
    "##### Fall - 2017\n",
    "\n",
    "# Project 2\n",
    "\n",
    "***\n",
    "\n",
    "This Project will look at a two-mode network of personal donations to committees during the 2016 year. These committees are mainly political and include organizations such as political action committees (PACs), political interest groups and campaigns. The donors include individuals, companies and other varied groups. The data gathered from the [Federal Election Commission](http://classic.fec.gov/finance/disclosure/ftpdet.shtml) contains a wealth of information about donors, committees and elections. It would be interesting to use network analysis using some of this information, but in order to stay on track under the project metrics, we will solely be looking at the a subset of individuals donating to committees.\n",
    "\n",
    "The main purpose behind this analysis is to isolate circles of big political movers and shakers and similar individuals who move in these circles. It is not surprising to see individuals such as George Soros and the Adelson Family running in these elite circles, but it is interesting to see names and organizations not familiar to the American mainstream.\n",
    "\n",
    "Two networks will be analyzed:\n",
    "+ A network of individuals who share donations to the same committee\n",
    "+ A network of committees who share donors\n",
    "\n",
    "First, we will first load the data of committees and personal contributions:"
   ]
  },
  {
   "cell_type": "code",
   "execution_count": null,
   "metadata": {},
   "outputs": [],
   "source": [
    "import pandas as pd\n",
    "import numpy as np\n",
    "import networkx as nx\n",
    "from networkx.algorithms import bipartite\n",
    "\n",
    "# Committees\n",
    "comm_url = \"https://raw.githubusercontent.com/Liam-O/Data620/master/Wk7/cm.txt\"\n",
    "# Personal Contributions to Committees\n",
    "pers_cont_url = \"https://raw.githubusercontent.com/Liam-O/Data620/master/Wk7/2016_Contributions.csv\"\n",
    "\n",
    "comm_cols = (\"CMTE_ID\", \"CMTE_NM\", \"TRES_NM\", \"CMTE_ST1\", \"CMTE_ST2\",\n",
    "             \"CMTE_CITY\", \"CMTE_ST\", \"CMTE_ZIP\", \"CMTE_DSGN\", \"CMTE_TP\t\",\n",
    "             \"CMTE_PTY_AFFILIATION\", \"CMTE_FILING_FREQ\t\", \"ORG_TP\", \"CONNECTED_ORG_NM\", \"CAND_ID\")\n",
    "\n",
    "comm = pd.read_csv(comm_url, sep = \"|\", header = None,\n",
    "                        names = comm_cols)\n",
    "pers_cont = pd.read_csv(pers_cont_url)"
   ]
  },
  {
   "cell_type": "markdown",
   "metadata": {},
   "source": [
    "The personal contributions are each tied down to a committee. We will build a network of these contributions to committees making sure to aggregate duplicate instances of personal contributions to the same committee."
   ]
  },
  {
   "cell_type": "code",
   "execution_count": null,
   "metadata": {},
   "outputs": [],
   "source": [
    "# Map committee names to df\n",
    "pers_cont[\"COMM_NAME\"] = pers_cont.CMTE_ID.map(\n",
    "        pd.Series(comm.CMTE_NM.values, index = comm.CMTE_ID.values).to_dict())\n",
    "\n",
    "pers_cont_copy = pers_cont.copy()\n",
    "\n",
    "# Sum contributions to committees by each contributer to remove duplicate donations\n",
    "# Resulting aggregate will be used to build graph\n",
    "grouped = pers_cont.groupby([\"CMTE_ID\", \"NAME\"], as_index = False).agg({\"TRANSACTION_AMT\" : np.sum})\n",
    "\n",
    "# Instantitate graph\n",
    "pers_cont_g = nx.Graph()\n",
    "\n",
    "# Build bipartite graph separating doners from committees\n",
    "pers_cont_g.add_nodes_from(\n",
    "        [pers_cont for cmte, pers_cont in grouped[[\"CMTE_ID\", \"NAME\"]].values], bipartite = 0)\n",
    "pers_cont_g.add_nodes_from(\n",
    "        [cmte for cmte, pers_cont in grouped[[\"CMTE_ID\", \"NAME\"]].values], bipartite = 1)\n",
    "\n",
    "# Itteratively build edge list with total amount of money\n",
    "# donated to specific committees\n",
    "for source, target, att in grouped.values:\n",
    "    pers_cont_g.add_edge(source, target, {\"AMT\": att})"
   ]
  },
  {
   "cell_type": "markdown",
   "metadata": {},
   "source": [
    "The network has the following attributes:"
   ]
  },
  {
   "cell_type": "code",
   "execution_count": null,
   "metadata": {},
   "outputs": [],
   "source": [
    "print(nx.info(pers_cont_g))"
   ]
  },
  {
   "cell_type": "markdown",
   "metadata": {},
   "source": [
    "This is a fairly large network and not much can be inferred from it. There are multiple sub-networks within due to there not being ties between everything. We will isolate the largest sub-network in the group and move forward with our binary projection of the network into donors and committees."
   ]
  },
  {
   "cell_type": "code",
   "execution_count": null,
   "metadata": {},
   "outputs": [],
   "source": [
    "# Find the largest connected subgraph in the network\n",
    "comm_donors_g = max(nx.connected_component_subgraphs(pers_cont_g), key=len)\n",
    "\n",
    "# Instantitate bipartite sets to ready for projeciton\n",
    "donor_nodes, comm_nodes = bipartite.sets(comm_donors_g)\n",
    "\n",
    "# Build projected networks for donors and committees\n",
    "# The edge weights will signify the times that the same committees were donated to.\n",
    "donor_projected = bipartite.weighted_projected_graph(comm_donors_g, donor_nodes)\n",
    "comm_projected = bipartite.weighted_projected_graph(comm_donors_g, comm_nodes)\n",
    "\n",
    "donor_projected.name = \"Projected Donors\"\n",
    "comm_projected.name = \"Projected Committees\"\n",
    "\n",
    "print(nx.info(donor_projected) + \"\\n\")\n",
    "print(nx.info(comm_projected))"
   ]
  },
  {
   "cell_type": "markdown",
   "metadata": {},
   "source": [
    "From the output above, it can be seen that these networks are still relatively large. We will use the island method on the respective networks' ```weights```, which correspond to the number of shared connections, to iterate through a rising cut-off point to stratify the respective relationships. Methods were used from the class text *Social Network Analysis for Startups by Alexander Kouznetsov and Maksim Tsvetovat* to achieve this."
   ]
  },
  {
   "cell_type": "code",
   "execution_count": null,
   "metadata": {
    "collapsed": true
   },
   "outputs": [],
   "source": [
    "def trim_edges(g, weight = 1):\n",
    "    g2 = nx.Graph()\n",
    "    for f, to, edata in g.edges(data = True):\n",
    "        if edata[\"weight\"] > weight:\n",
    "            g2.add_edge(f, to, edata)\n",
    "    return g2\n",
    "\n",
    "def island_method(g, iterations = 5.0):\n",
    "    weights = [edata[\"weight\"] for f, to, edata in g.edges(data = True)]\n",
    "    mn  = int(min(weights))\n",
    "    mx  = int(max(weights))\n",
    "    step = int((mx - mn)/iterations)\n",
    "\n",
    "    return [[threshold, trim_edges(g, threshold)] for threshold in list(range(mn,mx,step))]"
   ]
  },
  {
   "cell_type": "markdown",
   "metadata": {},
   "source": [
    "We will use the shared relationships between the donors and committees through the methods above to look at the stratified levels of the increasing movers and shakers in the respective networks."
   ]
  },
  {
   "cell_type": "code",
   "execution_count": null,
   "metadata": {},
   "outputs": [],
   "source": [
    "from IPython.display import display\n",
    "\n",
    "donor_islands = island_method(donor_projected)\n",
    "comm_islands = island_method(comm_projected)\n",
    "\n",
    "donor_strat = pd.DataFrame({\"Weight_Cutoff\": [i for (i, j) in donor_islands],\n",
    "\"Num_Nodes\": [len(j) for (i, j) in donor_islands],\n",
    "\"Connected_Graphs\": [nx.number_connected_components(j) for (i, j) in donor_islands]})\n",
    "    \n",
    "donor_strat = donor_strat[[\"Weight_Cutoff\", \"Num_Nodes\", \"Connected_Graphs\"]]\n",
    "\n",
    "comm_strat = pd.DataFrame({\"Weight_Cutoff\": [i for (i, j) in comm_islands],\n",
    "\"Num_Nodes\": [len(j) for (i, j) in comm_islands],\n",
    "\"Connected_Graphs\": [nx.number_connected_components(j) for (i, j) in comm_islands]})\n",
    "    \n",
    "comm_strat = comm_strat[[\"Weight_Cutoff\", \"Num_Nodes\", \"Connected_Graphs\"]]\n",
    "\n",
    "print(\"Stratified Donor Networks\")\n",
    "display(donor_strat)\n",
    "\n",
    "print(\"\\n\\nStratified Committee Networks\")\n",
    "display(comm_strat)"
   ]
  },
  {
   "cell_type": "markdown",
   "metadata": {},
   "source": [
    "We can see the ```weights``` thresholds for the committees are much larger. Let us look at the 2nd index of the Donor network and the 1st index of the Committee network to see the individuals/organizations who are in these key networks, i.e. the beginning of being in a small, elite group. We will show the combined donations and revenue for the donors and committees, respectively."
   ]
  },
  {
   "cell_type": "code",
   "execution_count": null,
   "metadata": {},
   "outputs": [],
   "source": [
    "donor_totals = pers_cont_copy.groupby([\"NAME\"], as_index = False).agg({\"TRANSACTION_AMT\" : np.sum})\n",
    "\n",
    "elite_donors = pd.DataFrame({\"Name\" : donor_islands[2][1].nodes(),\n",
    "                            \"Total_Donations\" : [j for (i, j) in donor_totals.values if i in donor_islands[2][1].nodes()]})\n",
    "\n",
    "comm_totals = pers_cont_copy.groupby([\"CMTE_ID\"], as_index = False).agg({\"TRANSACTION_AMT\" : np.sum})\n",
    "\n",
    "elite_comms = pd.DataFrame({\"Name\" : comm_islands[1][1].nodes(),\n",
    "                            \"Total_Donations\" : [j for (i, j) in comm_totals.values if i in comm_islands[1][1].nodes()]})\n",
    "elite_comms = elite_comms.replace(\n",
    "    {\"Name\": {id : name for id, name in comm[[\"CMTE_ID\", \"CMTE_NM\"]].values if id in comm_islands[1][1].nodes()}})\n",
    "\n",
    "print(\"Elite Donor Contributions\")\n",
    "display(elite_donors.sort_values(by = \"Total_Donations\", ascending= False))\n",
    "\n",
    "print(\"\\n\\nElite Committee Revenue\")\n",
    "display(elite_comms.sort_values(by = \"Total_Donations\", ascending= False))"
   ]
  },
  {
   "cell_type": "markdown",
   "metadata": {},
   "source": [
    "For these elite groups, it does not necessarily show us the top donors or the committees swimming in the most capital, but those that are the most active within groups. Namely, the donors sharing the respective sub-network are highly active in giving to the same causes and probably share the same ideals (note below for Donor Network). For the committees, the elite networks represent those who share groups of highly active donors."
   ]
  },
  {
   "cell_type": "code",
   "execution_count": null,
   "metadata": {},
   "outputs": [],
   "source": [
    "import matplotlib.pyplot as plt\n",
    "import warnings\n",
    "warnings.filterwarnings('ignore')\n",
    "\n",
    "nx.draw(donor_islands[2][1], with_labels = True, font_size=8)\n",
    "print(\"Elite Donor Network\")\n",
    "plt.show()"
   ]
  },
  {
   "cell_type": "markdown",
   "metadata": {},
   "source": [
    "The island method is good way to stratify networks and note when there is an abrupt change in network. This abrupt change in network characteristics can isolate such things as high activity and like-mindedness. THe island method can be used with any quantifier (e.g. centrality measurements). When working with large networks, this could be an ideal way of sifting through non-relevant components of the network and highlight main points of interest."
   ]
  }
 ],
 "metadata": {
  "anaconda-cloud": {},
  "kernelspec": {
   "display_name": "Python [conda env:py36]",
   "language": "python",
   "name": "conda-env-py36-py"
  },
  "language_info": {
   "codemirror_mode": {
    "name": "ipython",
    "version": 3
   },
   "file_extension": ".py",
   "mimetype": "text/x-python",
   "name": "python",
   "nbconvert_exporter": "python",
   "pygments_lexer": "ipython3",
   "version": "3.6.1"
  }
 },
 "nbformat": 4,
 "nbformat_minor": 2
}
