{
 "cells": [
  {
   "cell_type": "markdown",
   "metadata": {
    "deletable": true,
    "editable": true
   },
   "source": [
    "## Data 620 - Week 3\n",
    "### Liam Byrne\n",
    "\n",
    "#### Assignment: Graph Visualization\n",
    "\n",
    "***"
   ]
  },
  {
   "cell_type": "markdown",
   "metadata": {
    "deletable": true,
    "editable": true
   },
   "source": [
    "+ **Load a graph database of your choosing from a text file or other source. If you take a large network dataset from the web (such as from https://snap.stanford.edu/data/), please feel free at this point to load just a small subset of the nodes and edges.**"
   ]
  },
  {
   "cell_type": "markdown",
   "metadata": {
    "deletable": true,
    "editable": true
   },
   "source": [
    "The graph used in this example are email associations released from the Enron investigaiton ([available here](https://snap.stanford.edu/data/email-Enron.html)). A brief description follows:\n",
    "\n",
    ">Enron email communication network covers all the email communication within a dataset of around half million emails. This data was originally made public, and posted to the web, by the Federal Energy Regulatory Commission during its investigation. Nodes of the network are email addresses and if an address i sent at least one email to address j, the graph contains an undirected edge from i to j. Note that non-Enron email addresses act as sinks and sources in the network as we only observe their communication with the Enron email addresses.\n",
    "\n",
    "First we will need to read the repo'd file to a **NetworkX** graph."
   ]
  },
  {
   "cell_type": "code",
   "execution_count": 1,
   "metadata": {
    "collapsed": false,
    "deletable": true,
    "editable": true
   },
   "outputs": [
    {
     "name": "stdout",
     "output_type": "stream",
     "text": [
      "Name: \n",
      "Type: Graph\n",
      "Number of nodes: 36692\n",
      "Number of edges: 183831\n",
      "Average degree:  10.0202\n"
     ]
    }
   ],
   "source": [
    "import networkx as nx\n",
    "import pandas as pd\n",
    "\n",
    "repo = \"https://raw.githubusercontent.com/Liam-O/Data620/master/Wk3/Email-Enron.txt\"\n",
    "enron = pd.read_csv(repo, sep = \"\\t\", skiprows = 3)\n",
    "enron.columns = (\"FromNodeID\", \"ToNodeID\")\n",
    "# Create graph object from df\n",
    "g = nx.from_pandas_dataframe(enron, source = \"FromNodeID\",\n",
    "                             target = \"ToNodeID\", create_using = nx.DiGraph())\n",
    "\n",
    "# Force to undirected which removes duplicate edges\n",
    "g = g.to_undirected()\n",
    "print(nx.info(g))"
   ]
  },
  {
   "cell_type": "markdown",
   "metadata": {
    "deletable": true,
    "editable": true
   },
   "source": [
    "+ **2. Create basic analysis on the graph, including the graph’s diameter, and at least one other metric of your choosing. You may either code the functions by hand (to build your intuition and insight), or use functions in an existing package.**"
   ]
  },
  {
   "cell_type": "markdown",
   "metadata": {
    "deletable": true,
    "editable": true
   },
   "source": [
    "The graph is not connected, i.e. there are subgraphs. In order to find the greatest distance between any two verticies, *the diameter*, we will find the largest subgraph from the data. A small diameter would lead one to believe that the network is close-knit - i.e. everyone would know that something was wrong if there was an issue."
   ]
  },
  {
   "cell_type": "code",
   "execution_count": 2,
   "metadata": {
    "collapsed": false,
    "deletable": true,
    "editable": true
   },
   "outputs": [
    {
     "data": {
      "text/plain": [
       "False"
      ]
     },
     "execution_count": 2,
     "metadata": {},
     "output_type": "execute_result"
    }
   ],
   "source": [
    "nx.is_connected(g)"
   ]
  },
  {
   "cell_type": "code",
   "execution_count": 3,
   "metadata": {
    "collapsed": false,
    "deletable": true,
    "editable": true
   },
   "outputs": [
    {
     "data": {
      "text/plain": [
       "True"
      ]
     },
     "execution_count": 3,
     "metadata": {},
     "output_type": "execute_result"
    }
   ],
   "source": [
    "g_max = max(nx.connected_component_subgraphs(g), key = len)\n",
    "nx.is_connected(g_max)"
   ]
  },
  {
   "cell_type": "markdown",
   "metadata": {
    "deletable": true,
    "editable": true
   },
   "source": [
    "We can see that th attributes of `g_max` are different than that of `g` that were output above:"
   ]
  },
  {
   "cell_type": "code",
   "execution_count": 4,
   "metadata": {
    "collapsed": false,
    "deletable": true,
    "editable": true
   },
   "outputs": [
    {
     "name": "stdout",
     "output_type": "stream",
     "text": [
      "Name: \n",
      "Type: Graph\n",
      "Number of nodes: 33696\n",
      "Number of edges: 180811\n",
      "Average degree:  10.7319\n"
     ]
    }
   ],
   "source": [
    "print(nx.info(g_max))"
   ]
  },
  {
   "cell_type": "code",
   "execution_count": 5,
   "metadata": {
    "collapsed": false,
    "deletable": true,
    "editable": true
   },
   "outputs": [
    {
     "data": {
      "text/plain": [
       "13"
      ]
     },
     "execution_count": 5,
     "metadata": {},
     "output_type": "execute_result"
    }
   ],
   "source": [
    "nx.diameter(g_max)"
   ]
  },
  {
   "cell_type": "markdown",
   "metadata": {
    "deletable": true,
    "editable": true
   },
   "source": [
    "As another example of the graph's attributes, we will find the node with the highest degree, i.e. the node with the most edges incedent to it. The output will be the email ID associated with that node. In an investigation, if any wrongdoing was associated with the company. The individual on the majority of the company emails, would be a good place to start the investigation."
   ]
  },
  {
   "cell_type": "code",
   "execution_count": 8,
   "metadata": {
    "collapsed": false,
    "deletable": true,
    "editable": true
   },
   "outputs": [
    {
     "name": "stdout",
     "output_type": "stream",
     "text": [
      "The individual who had the widest communicaiton network in emails was email ID 5038. The number of people who had communication with the individual were 36691.\n"
     ]
    }
   ],
   "source": [
    "deg_max = nx.degree_centrality(g_max)\n",
    "n_max = max(deg_max, key = deg_max.get)\n",
    "n_max_count = max(deg_max)\n",
    "print(\"The individual who had the widest communicaiton network in emails was email ID {0}. \"\n",
    "\"The number of people who had communication with the individual were {1}.\".format(\n",
    "        n_max, n_max_count))"
   ]
  },
  {
   "cell_type": "markdown",
   "metadata": {},
   "source": [
    "We will focus on the individual within the network with the most neighbors and create a subgraph of that network. The network, an egocentric graph, will only have nodes with a 1 degree of seperation from this central node. "
   ]
  },
  {
   "cell_type": "code",
   "execution_count": 11,
   "metadata": {
    "collapsed": false
   },
   "outputs": [
    {
     "name": "stdout",
     "output_type": "stream",
     "text": [
      "Name: \n",
      "Type: Graph\n",
      "Number of nodes: 1384\n",
      "Number of edges: 1831\n",
      "Average degree:   2.6460\n"
     ]
    }
   ],
   "source": [
    "ego_center = nx.ego_graph(g_max, n = n_max, undirected = True)\n",
    "print(nx.info(ego_center))"
   ]
  }
 ],
 "metadata": {
  "kernelspec": {
   "display_name": "Python 2",
   "language": "python",
   "name": "python2"
  },
  "language_info": {
   "codemirror_mode": {
    "name": "ipython",
    "version": 2
   },
   "file_extension": ".py",
   "mimetype": "text/x-python",
   "name": "python",
   "nbconvert_exporter": "python",
   "pygments_lexer": "ipython2",
   "version": "2.7.10"
  }
 },
 "nbformat": 4,
 "nbformat_minor": 2
}
