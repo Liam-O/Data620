{
 "cells": [
  {
   "cell_type": "markdown",
   "metadata": {},
   "source": [
    "Need to get hourly or so BTC prices.  \n",
    "\n",
    "Found this Stackoverflow thread:  \n",
    ">Actually, you CAN get the whole Bitcoin trades history from Bitcoincharts in CSV format here : > http://api.bitcoincharts.com/v1/csv/\n",
    "\n",
    ">it is updated twice a day for active exchanges, and there is a few dead exchanges, too.\n",
    "\n",
    ">EDIT: Since there are no column headers in the CSVs, here's what they are : column 1) the trade's names=None, column 2) the price, column 3) the volume of the trade\n",
    "\n",
    "  \n",
    "Downloaded the data for bitstampUSD: 724 Mb unzipped csv.\n",
    "Let's try"
   ]
  },
  {
   "cell_type": "code",
   "execution_count": 105,
   "metadata": {
    "collapsed": true
   },
   "outputs": [],
   "source": [
    "import pandas as pd\n",
    "pd.options.mode.chained_assignment = None \n",
    "import numpy as np\n",
    "import autopep8"
   ]
  },
  {
   "cell_type": "code",
   "execution_count": 2,
   "metadata": {
    "collapsed": true
   },
   "outputs": [],
   "source": [
    "# Matplotlib setup\n",
    "from __future__ import print_function, division\n",
    "import matplotlib as mpl\n",
    "import matplotlib.pyplot as plt\n",
    "%matplotlib inline"
   ]
  },
  {
   "cell_type": "code",
   "execution_count": 3,
   "metadata": {},
   "outputs": [],
   "source": [
    "# from plotly.offline import plot, iplot, init_notebook_mode\n",
    "# import plotly.graph_objs as go\n",
    "\n",
    "# # Make plotly work with Jupyter notebook\n",
    "# %matplotlib inline\n",
    "# init_notebook_mode()\n",
    "\n",
    "# import cufflinks as cf\n",
    "\n",
    "# Add error handler that installs cufflinks if this call above fails:\n",
    "#  ! pip install cufflinks --upgrade\n",
    "\n",
    "# cf.go_offline()"
   ]
  },
  {
   "cell_type": "code",
   "execution_count": 4,
   "metadata": {
    "collapsed": true
   },
   "outputs": [],
   "source": [
    "# Run once to fetch the data and filter it to 2017 only\n",
    "\n",
    "# ADD CONDITION IF ISPATH to skip over this block\n",
    "\n",
    "# Add the code to download and unzip the data from this URL:\n",
    "\n",
    "# http://api.bitcoincharts.com/v1/csv/bitstampUSD.csv.gz (this is the 724Mb file)\n",
    "\n",
    "\n",
    "# inp = pd.read_csv(\"data/bitstampUSD.csv\",names = [\"timestamp\",\"price\", \"volume\"])\n",
    "\n",
    "# inp[\"date_time\"]= pd.to_datetime(inp[\"timestamp\"], unit='s')\\\n",
    "#                  .dt.tz_localize('UTC')\\\n",
    "#                  .dt.tz_convert('America/New_York')\n",
    "        \n",
    "# btc = inp[inp[\"date_time\"]>= \"2017-01-01\"]\n",
    "# btc.to_csv(\"processed_data/bitstampUSD_processed_2017.csv\",index=False)\n",
    "# btc.to_pickle(\"processed_data/bitstampUSD_processed_2017.p\")"
   ]
  },
  {
   "cell_type": "code",
   "execution_count": 7,
   "metadata": {},
   "outputs": [],
   "source": [
    "processed_path = \"processed_data/bitstampUSD_processed_2017.p\"\n",
    "btc = pd.read_pickle(processed_path)"
   ]
  },
  {
   "cell_type": "code",
   "execution_count": 8,
   "metadata": {},
   "outputs": [
    {
     "data": {
      "text/html": [
       "<div>\n",
       "<style scoped>\n",
       "    .dataframe tbody tr th:only-of-type {\n",
       "        vertical-align: middle;\n",
       "    }\n",
       "\n",
       "    .dataframe tbody tr th {\n",
       "        vertical-align: top;\n",
       "    }\n",
       "\n",
       "    .dataframe thead th {\n",
       "        text-align: right;\n",
       "    }\n",
       "</style>\n",
       "<table border=\"1\" class=\"dataframe\">\n",
       "  <thead>\n",
       "    <tr style=\"text-align: right;\">\n",
       "      <th></th>\n",
       "      <th>timestamp</th>\n",
       "      <th>price</th>\n",
       "      <th>volume</th>\n",
       "      <th>date_time</th>\n",
       "    </tr>\n",
       "  </thead>\n",
       "  <tbody>\n",
       "    <tr>\n",
       "      <th>10240699</th>\n",
       "      <td>1483228868</td>\n",
       "      <td>966.34</td>\n",
       "      <td>1.46000</td>\n",
       "      <td>2016-12-31 19:01:08-05:00</td>\n",
       "    </tr>\n",
       "    <tr>\n",
       "      <th>10240700</th>\n",
       "      <td>1483228873</td>\n",
       "      <td>966.34</td>\n",
       "      <td>1.32000</td>\n",
       "      <td>2016-12-31 19:01:13-05:00</td>\n",
       "    </tr>\n",
       "    <tr>\n",
       "      <th>10240701</th>\n",
       "      <td>1483228888</td>\n",
       "      <td>966.34</td>\n",
       "      <td>4.83000</td>\n",
       "      <td>2016-12-31 19:01:28-05:00</td>\n",
       "    </tr>\n",
       "    <tr>\n",
       "      <th>10240702</th>\n",
       "      <td>1483228926</td>\n",
       "      <td>966.16</td>\n",
       "      <td>2.38000</td>\n",
       "      <td>2016-12-31 19:02:06-05:00</td>\n",
       "    </tr>\n",
       "    <tr>\n",
       "      <th>10240703</th>\n",
       "      <td>1483228926</td>\n",
       "      <td>966.36</td>\n",
       "      <td>2.20029</td>\n",
       "      <td>2016-12-31 19:02:06-05:00</td>\n",
       "    </tr>\n",
       "  </tbody>\n",
       "</table>\n",
       "</div>"
      ],
      "text/plain": [
       "           timestamp   price   volume                 date_time\n",
       "10240699  1483228868  966.34  1.46000 2016-12-31 19:01:08-05:00\n",
       "10240700  1483228873  966.34  1.32000 2016-12-31 19:01:13-05:00\n",
       "10240701  1483228888  966.34  4.83000 2016-12-31 19:01:28-05:00\n",
       "10240702  1483228926  966.16  2.38000 2016-12-31 19:02:06-05:00\n",
       "10240703  1483228926  966.36  2.20029 2016-12-31 19:02:06-05:00"
      ]
     },
     "execution_count": 8,
     "metadata": {},
     "output_type": "execute_result"
    }
   ],
   "source": [
    "btc.head()"
   ]
  },
  {
   "cell_type": "code",
   "execution_count": 9,
   "metadata": {
    "collapsed": true
   },
   "outputs": [],
   "source": [
    "# Extract time components and initially inspect the dataset\n",
    "\n",
    "btc[\"date\"] = btc.date_time.dt.date\n",
    "btc[\"hour\"] = btc.date_time.dt.hour"
   ]
  },
  {
   "cell_type": "code",
   "execution_count": 10,
   "metadata": {
    "collapsed": true
   },
   "outputs": [],
   "source": [
    "# Add date time to index and cut out the end of 2016\n",
    "btc.index = btc.date_time\n",
    "btc = btc[\"2017\"]"
   ]
  },
  {
   "cell_type": "code",
   "execution_count": 11,
   "metadata": {
    "collapsed": true
   },
   "outputs": [],
   "source": [
    "# btc_daily_avg = btc.groupby([\"date\"])[\"price\"].mean()\n",
    "# btc_daily_avg = pd.DataFrame(btc_daily_avg).reset_index() \n",
    "# btc_daily_avg.head()"
   ]
  },
  {
   "cell_type": "code",
   "execution_count": 12,
   "metadata": {
    "collapsed": true
   },
   "outputs": [],
   "source": [
    "# btc_hourly_avg = btc.groupby([\"date\", \"hour\"])['price'].mean()\n",
    "# btc_hourly_avg = pd.DataFrame(btc_hourly_avg).reset_index() \n",
    "# btc_hourly_avg.head()"
   ]
  },
  {
   "cell_type": "markdown",
   "metadata": {},
   "source": [
    "#### How did the price development look like in 2017?"
   ]
  },
  {
   "cell_type": "code",
   "execution_count": 13,
   "metadata": {},
   "outputs": [
    {
     "ename": "NameError",
     "evalue": "name 'btc_hourly_avg' is not defined",
     "output_type": "error",
     "traceback": [
      "\u001b[0;31m---------------------------------------------------------------------------\u001b[0m",
      "\u001b[0;31mNameError\u001b[0m                                 Traceback (most recent call last)",
      "\u001b[0;32m<ipython-input-13-62ec8f727f67>\u001b[0m in \u001b[0;36m<module>\u001b[0;34m()\u001b[0m\n\u001b[1;32m      1\u001b[0m \u001b[0;31m# Make the daily/hourly plot\u001b[0m\u001b[0;34m\u001b[0m\u001b[0;34m\u001b[0m\u001b[0m\n\u001b[1;32m      2\u001b[0m \u001b[0mplt\u001b[0m\u001b[0;34m.\u001b[0m\u001b[0mfigure\u001b[0m\u001b[0;34m(\u001b[0m\u001b[0mnum\u001b[0m\u001b[0;34m=\u001b[0m\u001b[0;36m1\u001b[0m\u001b[0;34m,\u001b[0m \u001b[0mfigsize\u001b[0m\u001b[0;34m=\u001b[0m\u001b[0;34m(\u001b[0m\u001b[0;36m16\u001b[0m\u001b[0;34m,\u001b[0m \u001b[0;36m8\u001b[0m\u001b[0;34m)\u001b[0m\u001b[0;34m)\u001b[0m\u001b[0;34m\u001b[0m\u001b[0m\n\u001b[0;32m----> 3\u001b[0;31m plt.plot(btc_hourly_avg[\"date\"], btc_hourly_avg[\"price\"], linewidth=1,\n\u001b[0m\u001b[1;32m      4\u001b[0m          color=\"red\", label=r\"hourly avg price\")\n\u001b[1;32m      5\u001b[0m \u001b[0mplt\u001b[0m\u001b[0;34m.\u001b[0m\u001b[0mxlabel\u001b[0m\u001b[0;34m(\u001b[0m\u001b[0;34mr\"Date\"\u001b[0m\u001b[0;34m)\u001b[0m\u001b[0;34m\u001b[0m\u001b[0m\n",
      "\u001b[0;31mNameError\u001b[0m: name 'btc_hourly_avg' is not defined"
     ]
    },
    {
     "data": {
      "text/plain": [
       "<matplotlib.figure.Figure at 0x1124bffd0>"
      ]
     },
     "metadata": {},
     "output_type": "display_data"
    }
   ],
   "source": [
    "# Make the daily/hourly plot\n",
    "plt.figure(num=1, figsize=(16, 8)) \n",
    "plt.plot(btc_hourly_avg[\"date\"], btc_hourly_avg[\"price\"], linewidth=1,\n",
    "         color=\"red\", label=r\"hourly avg price\")\n",
    "plt.xlabel(r\"Date\")\n",
    "plt.ylabel(r\"Avg BTC price (USD)\")\n",
    "plt.title(r\"Daily/hourly average BTC price in 2017\")\n",
    "\n",
    "\n",
    "plt.plot(btc_daily_avg[\"date\"], btc_daily_avg[\"price\"], linewidth=1,\n",
    "         color=\"blue\", label=r\"daily avg price\")\n",
    "\n",
    "plt.legend(loc=\"upper left\")\n",
    "\n",
    "plt.show()"
   ]
  },
  {
   "cell_type": "markdown",
   "metadata": {
    "collapsed": true
   },
   "source": [
    "#### Did the price increase or decrease at the close of the day?"
   ]
  },
  {
   "cell_type": "code",
   "execution_count": 15,
   "metadata": {},
   "outputs": [
    {
     "name": "stderr",
     "output_type": "stream",
     "text": [
      "/Users/dima/anaconda3/lib/python3.6/site-packages/ipykernel_launcher.py:3: FutureWarning: using a dict on a Series for aggregation\n",
      "is deprecated and will be removed in a future version\n",
      "  This is separate from the ipykernel package so we can avoid doing imports until\n"
     ]
    }
   ],
   "source": [
    "btc_ohlc = btc.groupby(\"date\")[\"price\"].agg({\"open\" : \"first\",\"high\": \"max\",\n",
    "                                              \"low\":\"min\",\"close\" : \"last\",\n",
    "                                              \"median\":\"median\"})\n",
    "\n",
    "conditions = [(btc_ohlc['open'] <= btc_ohlc['close'])\n",
    "              ,(btc_ohlc['open'] > btc_ohlc['close'])\n",
    "             ]\n",
    "choices = [\"up\",\"down\"]\n",
    "\n",
    "btc_ohlc['price_change'] = np.select(conditions, choices)\n"
   ]
  },
  {
   "cell_type": "code",
   "execution_count": 16,
   "metadata": {},
   "outputs": [
    {
     "data": {
      "text/html": [
       "<div>\n",
       "<style scoped>\n",
       "    .dataframe tbody tr th:only-of-type {\n",
       "        vertical-align: middle;\n",
       "    }\n",
       "\n",
       "    .dataframe tbody tr th {\n",
       "        vertical-align: top;\n",
       "    }\n",
       "\n",
       "    .dataframe thead th {\n",
       "        text-align: right;\n",
       "    }\n",
       "</style>\n",
       "<table border=\"1\" class=\"dataframe\">\n",
       "  <thead>\n",
       "    <tr style=\"text-align: right;\">\n",
       "      <th></th>\n",
       "      <th>open</th>\n",
       "      <th>high</th>\n",
       "      <th>low</th>\n",
       "      <th>close</th>\n",
       "      <th>median</th>\n",
       "      <th>price_change</th>\n",
       "    </tr>\n",
       "    <tr>\n",
       "      <th>date</th>\n",
       "      <th></th>\n",
       "      <th></th>\n",
       "      <th></th>\n",
       "      <th></th>\n",
       "      <th></th>\n",
       "      <th></th>\n",
       "    </tr>\n",
       "  </thead>\n",
       "  <tbody>\n",
       "    <tr>\n",
       "      <th>2017-01-01</th>\n",
       "      <td>963.02</td>\n",
       "      <td>1005.75</td>\n",
       "      <td>962.80</td>\n",
       "      <td>1005.73</td>\n",
       "      <td>997.625</td>\n",
       "      <td>up</td>\n",
       "    </tr>\n",
       "    <tr>\n",
       "      <th>2017-01-02</th>\n",
       "      <td>1005.48</td>\n",
       "      <td>1032.00</td>\n",
       "      <td>990.01</td>\n",
       "      <td>1023.57</td>\n",
       "      <td>1014.920</td>\n",
       "      <td>up</td>\n",
       "    </tr>\n",
       "    <tr>\n",
       "      <th>2017-01-03</th>\n",
       "      <td>1023.59</td>\n",
       "      <td>1046.00</td>\n",
       "      <td>1009.08</td>\n",
       "      <td>1042.64</td>\n",
       "      <td>1020.290</td>\n",
       "      <td>up</td>\n",
       "    </tr>\n",
       "    <tr>\n",
       "      <th>2017-01-04</th>\n",
       "      <td>1042.34</td>\n",
       "      <td>1139.89</td>\n",
       "      <td>1038.35</td>\n",
       "      <td>1118.05</td>\n",
       "      <td>1090.980</td>\n",
       "      <td>up</td>\n",
       "    </tr>\n",
       "    <tr>\n",
       "      <th>2017-01-05</th>\n",
       "      <td>1118.05</td>\n",
       "      <td>1136.72</td>\n",
       "      <td>885.41</td>\n",
       "      <td>970.10</td>\n",
       "      <td>983.500</td>\n",
       "      <td>down</td>\n",
       "    </tr>\n",
       "    <tr>\n",
       "      <th>2017-01-06</th>\n",
       "      <td>969.92</td>\n",
       "      <td>989.97</td>\n",
       "      <td>821.22</td>\n",
       "      <td>836.74</td>\n",
       "      <td>894.860</td>\n",
       "      <td>down</td>\n",
       "    </tr>\n",
       "    <tr>\n",
       "      <th>2017-01-07</th>\n",
       "      <td>837.48</td>\n",
       "      <td>938.00</td>\n",
       "      <td>812.28</td>\n",
       "      <td>937.05</td>\n",
       "      <td>885.010</td>\n",
       "      <td>up</td>\n",
       "    </tr>\n",
       "    <tr>\n",
       "      <th>2017-01-08</th>\n",
       "      <td>938.00</td>\n",
       "      <td>941.81</td>\n",
       "      <td>875.00</td>\n",
       "      <td>884.65</td>\n",
       "      <td>908.340</td>\n",
       "      <td>down</td>\n",
       "    </tr>\n",
       "    <tr>\n",
       "      <th>2017-01-09</th>\n",
       "      <td>885.01</td>\n",
       "      <td>910.58</td>\n",
       "      <td>879.94</td>\n",
       "      <td>895.62</td>\n",
       "      <td>894.250</td>\n",
       "      <td>up</td>\n",
       "    </tr>\n",
       "    <tr>\n",
       "      <th>2017-01-10</th>\n",
       "      <td>895.48</td>\n",
       "      <td>912.47</td>\n",
       "      <td>889.41</td>\n",
       "      <td>908.85</td>\n",
       "      <td>904.330</td>\n",
       "      <td>up</td>\n",
       "    </tr>\n",
       "  </tbody>\n",
       "</table>\n",
       "</div>"
      ],
      "text/plain": [
       "               open     high      low    close    median price_change\n",
       "date                                                                 \n",
       "2017-01-01   963.02  1005.75   962.80  1005.73   997.625           up\n",
       "2017-01-02  1005.48  1032.00   990.01  1023.57  1014.920           up\n",
       "2017-01-03  1023.59  1046.00  1009.08  1042.64  1020.290           up\n",
       "2017-01-04  1042.34  1139.89  1038.35  1118.05  1090.980           up\n",
       "2017-01-05  1118.05  1136.72   885.41   970.10   983.500         down\n",
       "2017-01-06   969.92   989.97   821.22   836.74   894.860         down\n",
       "2017-01-07   837.48   938.00   812.28   937.05   885.010           up\n",
       "2017-01-08   938.00   941.81   875.00   884.65   908.340         down\n",
       "2017-01-09   885.01   910.58   879.94   895.62   894.250           up\n",
       "2017-01-10   895.48   912.47   889.41   908.85   904.330           up"
      ]
     },
     "execution_count": 16,
     "metadata": {},
     "output_type": "execute_result"
    }
   ],
   "source": [
    "btc_ohlc.head(10)"
   ]
  },
  {
   "cell_type": "code",
   "execution_count": 17,
   "metadata": {},
   "outputs": [
    {
     "data": {
      "image/png": "[encoded data removed]",
      "text/plain": [
       "<matplotlib.figure.Figure at 0x11623fc50>"
      ]
     },
     "metadata": {},
     "output_type": "display_data"
    }
   ],
   "source": [
    "# Make the o-c plot\n",
    "df = btc_ohlc[pd.to_datetime(\"2017-10-01\").date():]\n",
    "\n",
    "plt.figure(num=1, figsize=(16, 8)) \n",
    "plt.step(df.index, df[\"open\"], linewidth=1,\n",
    "         color=\"black\", label=r\"open price\")\n",
    "plt.xlabel(r\"Date\")\n",
    "plt.ylabel(r\"BTC price (USD)\")\n",
    "plt.title(r\"Daily open and close BTC price in 2017\")\n",
    "\n",
    "plt.step(df.index, df[\"close\"], linewidth=2,\n",
    "         color=\"red\", label=r\"close price\")\n",
    "\n",
    "# plt.bar(x=df.index, height=df[\"close\"], color = \"grey\", width = -0.4,align=\"center\")\n",
    "plt.legend(loc=\"upper left\")\n",
    "\n",
    "plt.show()"
   ]
  },
  {
   "cell_type": "code",
   "execution_count": 18,
   "metadata": {},
   "outputs": [
    {
     "data": {
      "text/html": [
       "<div>\n",
       "<style scoped>\n",
       "    .dataframe tbody tr th:only-of-type {\n",
       "        vertical-align: middle;\n",
       "    }\n",
       "\n",
       "    .dataframe tbody tr th {\n",
       "        vertical-align: top;\n",
       "    }\n",
       "\n",
       "    .dataframe thead th {\n",
       "        text-align: right;\n",
       "    }\n",
       "</style>\n",
       "<table border=\"1\" class=\"dataframe\">\n",
       "  <thead>\n",
       "    <tr style=\"text-align: right;\">\n",
       "      <th></th>\n",
       "      <th>open</th>\n",
       "      <th>high</th>\n",
       "      <th>low</th>\n",
       "      <th>close</th>\n",
       "      <th>median</th>\n",
       "    </tr>\n",
       "    <tr>\n",
       "      <th>price_change</th>\n",
       "      <th></th>\n",
       "      <th></th>\n",
       "      <th></th>\n",
       "      <th></th>\n",
       "      <th></th>\n",
       "    </tr>\n",
       "  </thead>\n",
       "  <tbody>\n",
       "    <tr>\n",
       "      <th>down</th>\n",
       "      <td>130</td>\n",
       "      <td>130</td>\n",
       "      <td>130</td>\n",
       "      <td>130</td>\n",
       "      <td>130</td>\n",
       "    </tr>\n",
       "    <tr>\n",
       "      <th>up</th>\n",
       "      <td>216</td>\n",
       "      <td>216</td>\n",
       "      <td>216</td>\n",
       "      <td>216</td>\n",
       "      <td>216</td>\n",
       "    </tr>\n",
       "  </tbody>\n",
       "</table>\n",
       "</div>"
      ],
      "text/plain": [
       "              open  high  low  close  median\n",
       "price_change                                \n",
       "down           130   130  130    130     130\n",
       "up             216   216  216    216     216"
      ]
     },
     "execution_count": 18,
     "metadata": {},
     "output_type": "execute_result"
    }
   ],
   "source": [
    "btc_ohlc.groupby(\"price_change\").count()"
   ]
  },
  {
   "cell_type": "code",
   "execution_count": 19,
   "metadata": {
    "collapsed": true
   },
   "outputs": [],
   "source": [
    "btc[\"dt_6h\"] = (pd.DatetimeIndex(btc['date_time'])).round(\"6H\")"
   ]
  },
  {
   "cell_type": "code",
   "execution_count": 20,
   "metadata": {},
   "outputs": [
    {
     "name": "stderr",
     "output_type": "stream",
     "text": [
      "/Users/dima/anaconda3/lib/python3.6/site-packages/ipykernel_launcher.py:3: FutureWarning: using a dict on a Series for aggregation\n",
      "is deprecated and will be removed in a future version\n",
      "  This is separate from the ipykernel package so we can avoid doing imports until\n"
     ]
    }
   ],
   "source": [
    "btc_ohlc_6h = btc.groupby(\"dt_6h\")[\"price\"].agg({\"open\" : \"first\",\"high\": \"max\",\n",
    "                                              \"low\":\"min\",\"close\" : \"last\",\n",
    "                                              \"median\":\"median\"})"
   ]
  },
  {
   "cell_type": "code",
   "execution_count": 21,
   "metadata": {},
   "outputs": [
    {
     "data": {
      "text/html": [
       "<div>\n",
       "<style scoped>\n",
       "    .dataframe tbody tr th:only-of-type {\n",
       "        vertical-align: middle;\n",
       "    }\n",
       "\n",
       "    .dataframe tbody tr th {\n",
       "        vertical-align: top;\n",
       "    }\n",
       "\n",
       "    .dataframe thead th {\n",
       "        text-align: right;\n",
       "    }\n",
       "</style>\n",
       "<table border=\"1\" class=\"dataframe\">\n",
       "  <thead>\n",
       "    <tr style=\"text-align: right;\">\n",
       "      <th></th>\n",
       "      <th>open</th>\n",
       "      <th>high</th>\n",
       "      <th>low</th>\n",
       "      <th>close</th>\n",
       "      <th>median</th>\n",
       "    </tr>\n",
       "    <tr>\n",
       "      <th>price_change</th>\n",
       "      <th></th>\n",
       "      <th></th>\n",
       "      <th></th>\n",
       "      <th></th>\n",
       "      <th></th>\n",
       "    </tr>\n",
       "  </thead>\n",
       "  <tbody>\n",
       "    <tr>\n",
       "      <th>down</th>\n",
       "      <td>596</td>\n",
       "      <td>596</td>\n",
       "      <td>596</td>\n",
       "      <td>596</td>\n",
       "      <td>596</td>\n",
       "    </tr>\n",
       "    <tr>\n",
       "      <th>up</th>\n",
       "      <td>786</td>\n",
       "      <td>786</td>\n",
       "      <td>786</td>\n",
       "      <td>786</td>\n",
       "      <td>786</td>\n",
       "    </tr>\n",
       "  </tbody>\n",
       "</table>\n",
       "</div>"
      ],
      "text/plain": [
       "              open  high  low  close  median\n",
       "price_change                                \n",
       "down           596   596  596    596     596\n",
       "up             786   786  786    786     786"
      ]
     },
     "execution_count": 21,
     "metadata": {},
     "output_type": "execute_result"
    }
   ],
   "source": [
    "conditions = [(btc_ohlc_6h['open'] <= btc_ohlc_6h['close'])\n",
    "              ,(btc_ohlc_6h['open'] > btc_ohlc_6h['close'])\n",
    "             ]\n",
    "choices = [\"up\",\"down\"]\n",
    "\n",
    "btc_ohlc_6h['price_change'] = np.select(conditions, choices)\n",
    "btc_ohlc_6h.groupby(\"price_change\").count()"
   ]
  },
  {
   "cell_type": "code",
   "execution_count": 22,
   "metadata": {},
   "outputs": [
    {
     "data": {
      "image/png": "[encoded data removed]",
      "text/plain": [
       "<matplotlib.figure.Figure at 0x11623fc88>"
      ]
     },
     "metadata": {},
     "output_type": "display_data"
    }
   ],
   "source": [
    "# Make the o-c plot\n",
    "df = btc_ohlc_6h[pd.to_datetime(\"2017-10-01\").date():]\n",
    "\n",
    "plt.figure(num=1, figsize=(16, 8)) \n",
    "plt.step(df.index, df[\"open\"], linewidth=1,\n",
    "         color=\"black\", label=r\"open price\")\n",
    "plt.xlabel(r\"Date\")\n",
    "plt.ylabel(r\"BTC price (USD)\")\n",
    "plt.title(r\"Daily open and close BTC price in 2017\")\n",
    "\n",
    "plt.step(df.index, df[\"close\"], linewidth=2,\n",
    "         color=\"red\", label=r\"close price\")\n",
    "\n",
    "# plt.bar(x=df.index, height=df[\"close\"], color = \"grey\", width = -0.4,align=\"center\")\n",
    "plt.legend(loc=\"upper left\")\n",
    "\n",
    "plt.show()"
   ]
  },
  {
   "cell_type": "code",
   "execution_count": 23,
   "metadata": {
    "collapsed": true
   },
   "outputs": [],
   "source": [
    "btc_ohlc.to_csv(\"processed_data/btc_ohlc.csv\")\n",
    "btc_ohlc_6h.to_csv(\"processed_data/btc_ohlc_6h.csv\")"
   ]
  },
  {
   "cell_type": "markdown",
   "metadata": {},
   "source": [
    "### Get the Tweets"
   ]
  },
  {
   "cell_type": "code",
   "execution_count": 149,
   "metadata": {},
   "outputs": [
    {
     "data": {
      "text/plain": [
       "(49212, 2)"
      ]
     },
     "execution_count": 149,
     "metadata": {},
     "output_type": "execute_result"
    }
   ],
   "source": [
    "twt_path = \"data/tweets2017.csv\"\n",
    "twt = pd.read_csv(twt_path)\n",
    "twt.shape"
   ]
  },
  {
   "cell_type": "code",
   "execution_count": 150,
   "metadata": {},
   "outputs": [
    {
     "data": {
      "text/html": [
       "<div>\n",
       "<style scoped>\n",
       "    .dataframe tbody tr th:only-of-type {\n",
       "        vertical-align: middle;\n",
       "    }\n",
       "\n",
       "    .dataframe tbody tr th {\n",
       "        vertical-align: top;\n",
       "    }\n",
       "\n",
       "    .dataframe thead th {\n",
       "        text-align: right;\n",
       "    }\n",
       "</style>\n",
       "<table border=\"1\" class=\"dataframe\">\n",
       "  <thead>\n",
       "    <tr style=\"text-align: right;\">\n",
       "      <th></th>\n",
       "      <th>tweet</th>\n",
       "      <th>timestamp</th>\n",
       "    </tr>\n",
       "  </thead>\n",
       "  <tbody>\n",
       "    <tr>\n",
       "      <th>0</th>\n",
       "      <td>Investment Firm Will Use Bitcoin To Avoid US S...</td>\n",
       "      <td>2017-03-31 20:00:05</td>\n",
       "    </tr>\n",
       "    <tr>\n",
       "      <th>1</th>\n",
       "      <td>#Anarchist #Bitcoin Coder Amir Taaki Wound Up ...</td>\n",
       "      <td>2017-03-31 20:28:19</td>\n",
       "    </tr>\n",
       "    <tr>\n",
       "      <th>2</th>\n",
       "      <td>【仮想通貨】日本版 Bitcoin 、Monacoinでできること - NAVER まとめ ...</td>\n",
       "      <td>2017-03-31 21:04:50</td>\n",
       "    </tr>\n",
       "    <tr>\n",
       "      <th>3</th>\n",
       "      <td>How The Technology Behind Bitcoin Is Going To ...</td>\n",
       "      <td>2017-03-31 21:19:49</td>\n",
       "    </tr>\n",
       "    <tr>\n",
       "      <th>4</th>\n",
       "      <td>Federal Reserve official warns of digital curr...</td>\n",
       "      <td>2017-03-31 22:08:03</td>\n",
       "    </tr>\n",
       "  </tbody>\n",
       "</table>\n",
       "</div>"
      ],
      "text/plain": [
       "                                               tweet            timestamp\n",
       "0  Investment Firm Will Use Bitcoin To Avoid US S...  2017-03-31 20:00:05\n",
       "1  #Anarchist #Bitcoin Coder Amir Taaki Wound Up ...  2017-03-31 20:28:19\n",
       "2  【仮想通貨】日本版 Bitcoin 、Monacoinでできること - NAVER まとめ ...  2017-03-31 21:04:50\n",
       "3  How The Technology Behind Bitcoin Is Going To ...  2017-03-31 21:19:49\n",
       "4  Federal Reserve official warns of digital curr...  2017-03-31 22:08:03"
      ]
     },
     "execution_count": 150,
     "metadata": {},
     "output_type": "execute_result"
    }
   ],
   "source": [
    "twt.head(5)"
   ]
  },
  {
   "cell_type": "markdown",
   "metadata": {},
   "source": [
    "### Question to clarify - what is the timezone of the twitter timestamps? What is the timezone of the bitcoin price data?"
   ]
  },
  {
   "cell_type": "markdown",
   "metadata": {},
   "source": [
    "#### Clean the tweets from URLS, non-english characters, and duplicates"
   ]
  },
  {
   "cell_type": "code",
   "execution_count": 151,
   "metadata": {
    "collapsed": true
   },
   "outputs": [],
   "source": [
    "def isEnglish(s):\n",
    "    \"\"\"Checks if a string contains ASCII characters only.\n",
    "    Source: https://stackoverflow.com/a/27084708/8066374\n",
    "    \"\"\"\n",
    "    try:\n",
    "        s.encode(encoding='utf-8').decode('ascii')\n",
    "    except UnicodeDecodeError:\n",
    "        return False\n",
    "    else:\n",
    "        return True"
   ]
  },
  {
   "cell_type": "code",
   "execution_count": 153,
   "metadata": {},
   "outputs": [],
   "source": [
    "# Clean the tweets\n",
    "twt[\"tweet_proc\"] = twt[\"tweet\"].str.replace(\"https?://.*\",\"\") # remove all urls\n",
    "twt[\"tweet_proc\"] = twt[\"tweet_proc\"].str.replace(\"’|#\",\"\") # remove non-unicode apostrophe and also hashtag sign\n",
    "twt = twt[twt[\"tweet_proc\"].str.len() >= 3] # retain only the tweets with more than 3 remaining characters\n",
    "twt[\"is_english\"] = twt[\"tweet_proc\"].map(isEnglish)"
   ]
  },
  {
   "cell_type": "code",
   "execution_count": 154,
   "metadata": {},
   "outputs": [
    {
     "data": {
      "text/html": [
       "<div>\n",
       "<style scoped>\n",
       "    .dataframe tbody tr th:only-of-type {\n",
       "        vertical-align: middle;\n",
       "    }\n",
       "\n",
       "    .dataframe tbody tr th {\n",
       "        vertical-align: top;\n",
       "    }\n",
       "\n",
       "    .dataframe thead th {\n",
       "        text-align: right;\n",
       "    }\n",
       "</style>\n",
       "<table border=\"1\" class=\"dataframe\">\n",
       "  <thead>\n",
       "    <tr style=\"text-align: right;\">\n",
       "      <th></th>\n",
       "      <th>tweet</th>\n",
       "      <th>timestamp</th>\n",
       "      <th>tweet_proc</th>\n",
       "      <th>is_english</th>\n",
       "    </tr>\n",
       "  </thead>\n",
       "  <tbody>\n",
       "    <tr>\n",
       "      <th>0</th>\n",
       "      <td>Investment Firm Will Use Bitcoin To Avoid US S...</td>\n",
       "      <td>2017-03-31 20:00:05</td>\n",
       "      <td>Investment Firm Will Use Bitcoin To Avoid US S...</td>\n",
       "      <td>True</td>\n",
       "    </tr>\n",
       "    <tr>\n",
       "      <th>1</th>\n",
       "      <td>#Anarchist #Bitcoin Coder Amir Taaki Wound Up ...</td>\n",
       "      <td>2017-03-31 20:28:19</td>\n",
       "      <td>Anarchist Bitcoin Coder Amir Taaki Wound Up Fi...</td>\n",
       "      <td>True</td>\n",
       "    </tr>\n",
       "    <tr>\n",
       "      <th>2</th>\n",
       "      <td>【仮想通貨】日本版 Bitcoin 、Monacoinでできること - NAVER まとめ ...</td>\n",
       "      <td>2017-03-31 21:04:50</td>\n",
       "      <td>【仮想通貨】日本版 Bitcoin 、Monacoinでできること - NAVER まとめ</td>\n",
       "      <td>False</td>\n",
       "    </tr>\n",
       "    <tr>\n",
       "      <th>3</th>\n",
       "      <td>How The Technology Behind Bitcoin Is Going To ...</td>\n",
       "      <td>2017-03-31 21:19:49</td>\n",
       "      <td>How The Technology Behind Bitcoin Is Going To ...</td>\n",
       "      <td>True</td>\n",
       "    </tr>\n",
       "    <tr>\n",
       "      <th>4</th>\n",
       "      <td>Federal Reserve official warns of digital curr...</td>\n",
       "      <td>2017-03-31 22:08:03</td>\n",
       "      <td>Federal Reserve official warns of digital curr...</td>\n",
       "      <td>True</td>\n",
       "    </tr>\n",
       "  </tbody>\n",
       "</table>\n",
       "</div>"
      ],
      "text/plain": [
       "                                               tweet            timestamp  \\\n",
       "0  Investment Firm Will Use Bitcoin To Avoid US S...  2017-03-31 20:00:05   \n",
       "1  #Anarchist #Bitcoin Coder Amir Taaki Wound Up ...  2017-03-31 20:28:19   \n",
       "2  【仮想通貨】日本版 Bitcoin 、Monacoinでできること - NAVER まとめ ...  2017-03-31 21:04:50   \n",
       "3  How The Technology Behind Bitcoin Is Going To ...  2017-03-31 21:19:49   \n",
       "4  Federal Reserve official warns of digital curr...  2017-03-31 22:08:03   \n",
       "\n",
       "                                          tweet_proc  is_english  \n",
       "0  Investment Firm Will Use Bitcoin To Avoid US S...        True  \n",
       "1  Anarchist Bitcoin Coder Amir Taaki Wound Up Fi...        True  \n",
       "2     【仮想通貨】日本版 Bitcoin 、Monacoinでできること - NAVER まとめ        False  \n",
       "3  How The Technology Behind Bitcoin Is Going To ...        True  \n",
       "4  Federal Reserve official warns of digital curr...        True  "
      ]
     },
     "execution_count": 154,
     "metadata": {},
     "output_type": "execute_result"
    }
   ],
   "source": [
    "twt.head(5)"
   ]
  },
  {
   "cell_type": "code",
   "execution_count": 155,
   "metadata": {},
   "outputs": [
    {
     "data": {
      "text/plain": [
       "is_english\n",
       "False     8404\n",
       "True     39725\n",
       "Name: tweet, dtype: int64"
      ]
     },
     "execution_count": 155,
     "metadata": {},
     "output_type": "execute_result"
    }
   ],
   "source": [
    "twt.groupby([\"is_english\"])[\"tweet\"].count()"
   ]
  },
  {
   "cell_type": "markdown",
   "metadata": {},
   "source": [
    "Removed 8404 tweets with non-ascii characters to prepare the data for VADER sentiment analysis"
   ]
  },
  {
   "cell_type": "code",
   "execution_count": 156,
   "metadata": {
    "collapsed": true
   },
   "outputs": [],
   "source": [
    "twt_clean = twt[twt[\"is_english\"]==True]"
   ]
  },
  {
   "cell_type": "code",
   "execution_count": 157,
   "metadata": {
    "collapsed": true
   },
   "outputs": [],
   "source": [
    "twt_clean = twt_clean.drop_duplicates(\"tweet_proc\")"
   ]
  },
  {
   "cell_type": "code",
   "execution_count": 158,
   "metadata": {},
   "outputs": [
    {
     "data": {
      "text/plain": [
       "(21649, 4)"
      ]
     },
     "execution_count": 158,
     "metadata": {},
     "output_type": "execute_result"
    }
   ],
   "source": [
    "twt_clean.shape"
   ]
  },
  {
   "cell_type": "markdown",
   "metadata": {},
   "source": [
    "Only 21.6k tweets remain after the cleaning step"
   ]
  },
  {
   "cell_type": "markdown",
   "metadata": {},
   "source": [
    "#### Extract sentiment using NLTK and VADER"
   ]
  },
  {
   "cell_type": "code",
   "execution_count": 159,
   "metadata": {},
   "outputs": [],
   "source": [
    "from nltk.sentiment.vader import SentimentIntensityAnalyzer\n",
    "\n",
    "sid = SentimentIntensityAnalyzer()"
   ]
  },
  {
   "cell_type": "code",
   "execution_count": 160,
   "metadata": {},
   "outputs": [
    {
     "name": "stdout",
     "output_type": "stream",
     "text": [
      "How The Technology Behind Bitcoin Is Going To Change The Lives Of The Bottom Billion \n",
      "{'neg': 0.0, 'neu': 1.0, 'pos': 0.0, 'compound': 0.0}\n"
     ]
    }
   ],
   "source": [
    "print(twt_clean.loc[3,'tweet_proc'])\n",
    "print(sid.polarity_scores(twt_clean.loc[3,'tweet_proc']))"
   ]
  },
  {
   "cell_type": "code",
   "execution_count": 161,
   "metadata": {},
   "outputs": [],
   "source": [
    "twt_clean[\"sid\"] = twt_clean[\"tweet_proc\"].map(lambda x: sid.polarity_scores(x))"
   ]
  },
  {
   "cell_type": "code",
   "execution_count": 162,
   "metadata": {},
   "outputs": [],
   "source": [
    "twt_clean = pd.concat([twt_clean.drop([\"sid\",\"tweet\",\"is_english\"], axis=1), \n",
    "                       twt_clean[\"sid\"].apply(pd.Series)], axis=1)"
   ]
  },
  {
   "cell_type": "code",
   "execution_count": 166,
   "metadata": {},
   "outputs": [
    {
     "data": {
      "text/html": [
       "<div>\n",
       "<style scoped>\n",
       "    .dataframe tbody tr th:only-of-type {\n",
       "        vertical-align: middle;\n",
       "    }\n",
       "\n",
       "    .dataframe tbody tr th {\n",
       "        vertical-align: top;\n",
       "    }\n",
       "\n",
       "    .dataframe thead th {\n",
       "        text-align: right;\n",
       "    }\n",
       "</style>\n",
       "<table border=\"1\" class=\"dataframe\">\n",
       "  <thead>\n",
       "    <tr style=\"text-align: right;\">\n",
       "      <th></th>\n",
       "      <th>timestamp</th>\n",
       "      <th>tweet_proc</th>\n",
       "      <th>compound</th>\n",
       "      <th>neg</th>\n",
       "      <th>neu</th>\n",
       "      <th>pos</th>\n",
       "    </tr>\n",
       "  </thead>\n",
       "  <tbody>\n",
       "    <tr>\n",
       "      <th>0</th>\n",
       "      <td>2017-03-31 20:00:05</td>\n",
       "      <td>Investment Firm Will Use Bitcoin To Avoid US S...</td>\n",
       "      <td>-0.2960</td>\n",
       "      <td>0.180</td>\n",
       "      <td>0.820</td>\n",
       "      <td>0.000</td>\n",
       "    </tr>\n",
       "    <tr>\n",
       "      <th>1</th>\n",
       "      <td>2017-03-31 20:28:19</td>\n",
       "      <td>Anarchist Bitcoin Coder Amir Taaki Wound Up Fi...</td>\n",
       "      <td>-0.3612</td>\n",
       "      <td>0.152</td>\n",
       "      <td>0.848</td>\n",
       "      <td>0.000</td>\n",
       "    </tr>\n",
       "    <tr>\n",
       "      <th>3</th>\n",
       "      <td>2017-03-31 21:19:49</td>\n",
       "      <td>How The Technology Behind Bitcoin Is Going To ...</td>\n",
       "      <td>0.0000</td>\n",
       "      <td>0.000</td>\n",
       "      <td>1.000</td>\n",
       "      <td>0.000</td>\n",
       "    </tr>\n",
       "    <tr>\n",
       "      <th>4</th>\n",
       "      <td>2017-03-31 22:08:03</td>\n",
       "      <td>Federal Reserve official warns of digital curr...</td>\n",
       "      <td>-0.3612</td>\n",
       "      <td>0.368</td>\n",
       "      <td>0.632</td>\n",
       "      <td>0.000</td>\n",
       "    </tr>\n",
       "    <tr>\n",
       "      <th>5</th>\n",
       "      <td>2017-03-31 22:13:59</td>\n",
       "      <td>Bitcoin : 'Blood Diamonds' Of The Digital Era ...</td>\n",
       "      <td>0.1759</td>\n",
       "      <td>0.145</td>\n",
       "      <td>0.639</td>\n",
       "      <td>0.217</td>\n",
       "    </tr>\n",
       "    <tr>\n",
       "      <th>6</th>\n",
       "      <td>2017-03-31 22:18:00</td>\n",
       "      <td>A Plan to Save Blockchain Democracy From Bitco...</td>\n",
       "      <td>-0.1779</td>\n",
       "      <td>0.277</td>\n",
       "      <td>0.496</td>\n",
       "      <td>0.227</td>\n",
       "    </tr>\n",
       "    <tr>\n",
       "      <th>7</th>\n",
       "      <td>2017-03-31 22:30:18</td>\n",
       "      <td>Digital asset exchange ShapeShift raises $10.4...</td>\n",
       "      <td>0.3612</td>\n",
       "      <td>0.000</td>\n",
       "      <td>0.762</td>\n",
       "      <td>0.238</td>\n",
       "    </tr>\n",
       "    <tr>\n",
       "      <th>8</th>\n",
       "      <td>2017-03-31 22:31:14</td>\n",
       "      <td>How an Anarchist Bitcoin Coder Found Himself F...</td>\n",
       "      <td>-0.3612</td>\n",
       "      <td>0.200</td>\n",
       "      <td>0.800</td>\n",
       "      <td>0.000</td>\n",
       "    </tr>\n",
       "    <tr>\n",
       "      <th>11</th>\n",
       "      <td>2017-04-01 00:03:18</td>\n",
       "      <td>Reg now behind invisible HTML5 Bitcoin paywall</td>\n",
       "      <td>0.0000</td>\n",
       "      <td>0.000</td>\n",
       "      <td>1.000</td>\n",
       "      <td>0.000</td>\n",
       "    </tr>\n",
       "    <tr>\n",
       "      <th>13</th>\n",
       "      <td>2017-04-01 01:03:10</td>\n",
       "      <td>Rising value of ethereum Turning a corner? Is ...</td>\n",
       "      <td>0.4137</td>\n",
       "      <td>0.000</td>\n",
       "      <td>0.784</td>\n",
       "      <td>0.216</td>\n",
       "    </tr>\n",
       "  </tbody>\n",
       "</table>\n",
       "</div>"
      ],
      "text/plain": [
       "              timestamp                                         tweet_proc  \\\n",
       "0   2017-03-31 20:00:05  Investment Firm Will Use Bitcoin To Avoid US S...   \n",
       "1   2017-03-31 20:28:19  Anarchist Bitcoin Coder Amir Taaki Wound Up Fi...   \n",
       "3   2017-03-31 21:19:49  How The Technology Behind Bitcoin Is Going To ...   \n",
       "4   2017-03-31 22:08:03  Federal Reserve official warns of digital curr...   \n",
       "5   2017-03-31 22:13:59  Bitcoin : 'Blood Diamonds' Of The Digital Era ...   \n",
       "6   2017-03-31 22:18:00  A Plan to Save Blockchain Democracy From Bitco...   \n",
       "7   2017-03-31 22:30:18  Digital asset exchange ShapeShift raises $10.4...   \n",
       "8   2017-03-31 22:31:14  How an Anarchist Bitcoin Coder Found Himself F...   \n",
       "11  2017-04-01 00:03:18    Reg now behind invisible HTML5 Bitcoin paywall    \n",
       "13  2017-04-01 01:03:10  Rising value of ethereum Turning a corner? Is ...   \n",
       "\n",
       "    compound    neg    neu    pos  \n",
       "0    -0.2960  0.180  0.820  0.000  \n",
       "1    -0.3612  0.152  0.848  0.000  \n",
       "3     0.0000  0.000  1.000  0.000  \n",
       "4    -0.3612  0.368  0.632  0.000  \n",
       "5     0.1759  0.145  0.639  0.217  \n",
       "6    -0.1779  0.277  0.496  0.227  \n",
       "7     0.3612  0.000  0.762  0.238  \n",
       "8    -0.3612  0.200  0.800  0.000  \n",
       "11    0.0000  0.000  1.000  0.000  \n",
       "13    0.4137  0.000  0.784  0.216  "
      ]
     },
     "execution_count": 166,
     "metadata": {},
     "output_type": "execute_result"
    }
   ],
   "source": [
    "twt_clean.head(10)"
   ]
  },
  {
   "cell_type": "markdown",
   "metadata": {},
   "source": [
    "#### Visualize the daily sentiment over time"
   ]
  },
  {
   "cell_type": "code",
   "execution_count": 172,
   "metadata": {},
   "outputs": [
    {
     "data": {
      "text/html": [
       "<div>\n",
       "<style scoped>\n",
       "    .dataframe tbody tr th:only-of-type {\n",
       "        vertical-align: middle;\n",
       "    }\n",
       "\n",
       "    .dataframe tbody tr th {\n",
       "        vertical-align: top;\n",
       "    }\n",
       "\n",
       "    .dataframe thead th {\n",
       "        text-align: right;\n",
       "    }\n",
       "</style>\n",
       "<table border=\"1\" class=\"dataframe\">\n",
       "  <thead>\n",
       "    <tr style=\"text-align: right;\">\n",
       "      <th></th>\n",
       "      <th>neg</th>\n",
       "      <th>pos</th>\n",
       "      <th>compound</th>\n",
       "    </tr>\n",
       "    <tr>\n",
       "      <th>date</th>\n",
       "      <th></th>\n",
       "      <th></th>\n",
       "      <th></th>\n",
       "    </tr>\n",
       "  </thead>\n",
       "  <tbody>\n",
       "    <tr>\n",
       "      <th>2017-03-31</th>\n",
       "      <td>1.322</td>\n",
       "      <td>0.682</td>\n",
       "      <td>-1.0204</td>\n",
       "    </tr>\n",
       "    <tr>\n",
       "      <th>2017-04-01</th>\n",
       "      <td>5.521</td>\n",
       "      <td>6.834</td>\n",
       "      <td>2.4179</td>\n",
       "    </tr>\n",
       "    <tr>\n",
       "      <th>2017-04-02</th>\n",
       "      <td>3.353</td>\n",
       "      <td>6.134</td>\n",
       "      <td>4.6129</td>\n",
       "    </tr>\n",
       "    <tr>\n",
       "      <th>2017-04-03</th>\n",
       "      <td>3.313</td>\n",
       "      <td>8.558</td>\n",
       "      <td>7.8017</td>\n",
       "    </tr>\n",
       "    <tr>\n",
       "      <th>2017-04-04</th>\n",
       "      <td>6.125</td>\n",
       "      <td>8.656</td>\n",
       "      <td>1.3070</td>\n",
       "    </tr>\n",
       "  </tbody>\n",
       "</table>\n",
       "</div>"
      ],
      "text/plain": [
       "              neg    pos  compound\n",
       "date                              \n",
       "2017-03-31  1.322  0.682   -1.0204\n",
       "2017-04-01  5.521  6.834    2.4179\n",
       "2017-04-02  3.353  6.134    4.6129\n",
       "2017-04-03  3.313  8.558    7.8017\n",
       "2017-04-04  6.125  8.656    1.3070"
      ]
     },
     "execution_count": 172,
     "metadata": {},
     "output_type": "execute_result"
    }
   ],
   "source": [
    "# Extract time components \n",
    "twt_clean[\"timestamp\"] = pd.to_datetime(twt_clean[\"timestamp\"] )\n",
    "twt_clean[\"date\"] = twt_clean[\"timestamp\"].dt.date\n",
    "twt_clean[\"hour\"] = twt_clean[\"timestamp\"].dt.hour\n",
    "\n",
    "# Get daily total for the VADER scores\n",
    "twt_clean_daily = twt_clean[[\"date\",\"neg\",\"pos\",\"compound\"]].groupby([\"date\"]).sum()\n",
    "twt_clean_daily.head()"
   ]
  },
  {
   "cell_type": "code",
   "execution_count": 178,
   "metadata": {},
   "outputs": [
    {
     "data": {
      "image/png": "[encoded data removed]",
      "text/plain": [
       "<matplotlib.figure.Figure at 0x13246beb8>"
      ]
     },
     "metadata": {},
     "output_type": "display_data"
    }
   ],
   "source": [
    "# Make a line plot\n",
    "df = twt_clean_daily\n",
    "\n",
    "plt.figure(num=1, figsize=(16, 8)) \n",
    "plt.plot(df.index, df[\"neg\"], linewidth=1,\n",
    "         color=\"red\", label=r\"negative aspects\")\n",
    "plt.plot(df.index, df[\"pos\"], linewidth=1,\n",
    "         color=\"green\", label=r\"positive aspects\")\n",
    "plt.plot(df.index, df[\"compound\"], linewidth=1,\n",
    "         color=\"blue\", label=r\"compound score\")\n",
    "plt.xlabel(r\"Date\")\n",
    "plt.ylabel(r\"Daily total sentiment scores\")\n",
    "plt.title(r\"Daily total sentiment scores for Bitcoin tweets in 2017\")\n",
    "\n",
    "\n",
    "# plt.plot(btc_daily_avg[\"date\"], btc_daily_avg[\"price\"], linewidth=1,\n",
    "#          color=\"blue\", label=r\"daily avg price\")\n",
    "\n",
    "plt.legend(loc=\"upper left\")\n",
    "\n",
    "plt.show()"
   ]
  },
  {
   "cell_type": "markdown",
   "metadata": {},
   "source": [
    "#### Correlate the daily compound sentiment with the price change direction"
   ]
  },
  {
   "cell_type": "code",
   "execution_count": 219,
   "metadata": {},
   "outputs": [
    {
     "data": {
      "image/png": "[encoded data removed]",
      "text/plain": [
       "<matplotlib.figure.Figure at 0x154622cc0>"
      ]
     },
     "metadata": {},
     "output_type": "display_data"
    }
   ],
   "source": [
    "df1 = twt_clean_daily[pd.to_datetime(\"2017-04-01\").date():]\n",
    "df2 = btc_ohlc_6h[pd.to_datetime(\"2017-04-01\").date():]\n",
    "\n",
    "fig, ax1 = plt.subplots(figsize=(16, 8))\n",
    "ax1.plot(twt_clean_daily.index, twt_clean_daily[\"compound\"], linewidth=1,color=\"blue\")\n",
    "ax1.set_xlabel('Date')\n",
    "\n",
    "# Make the y-axis label, ticks and tick labels match the line color.\n",
    "ax1.set_ylabel('compound score', color='blue')\n",
    "ax1.tick_params('y', colors='blue')\n",
    "\n",
    "ax2 = ax1.twinx()\n",
    "\n",
    "ax2.plot(df2.index, df2[\"close\"], linewidth=1,color=\"red\")\n",
    "ax2.set_ylabel('close price', color='red')\n",
    "ax2.tick_params('y', colors='red')\n",
    "\n",
    "ax3 = ax1.twinx()\n",
    "ax3 = ax1.twiny()\n",
    "ax3.plot(twt_clean_daily.index,np.repeat(0,len(twt_clean_daily.index)),\n",
    "         linewidth=1,color=\"black\")\n",
    "\n",
    "fig.tight_layout()\n",
    "plt.show()"
   ]
  },
  {
   "cell_type": "markdown",
   "metadata": {},
   "source": [
    "### Reference\n",
    "\n",
    "https://pandas.pydata.org/pandas-docs/stable/index.html  \n",
    "http://mple.m-artwork.eu/tutorial  \n",
    "Pandas Ifelse selection https://stackoverflow.com/a/19913845/8066374  \n",
    "NLTK & Vader http://www.nltk.org/howto/sentiment.html  \n",
    "Pandas dict to columns https://stackoverflow.com/questions/38231591/splitting-dictionary-list-inside-a-pandas-column-into-separate-columns  \n",
    "Matplotlib multiple axes https://matplotlib.org/examples/api/two_scales.html"
   ]
  },
  {
   "cell_type": "code",
   "execution_count": null,
   "metadata": {
    "collapsed": true
   },
   "outputs": [],
   "source": []
  }
 ],
 "metadata": {
  "kernelspec": {
   "display_name": "Python 3",
   "language": "python",
   "name": "python3"
  },
  "language_info": {
   "codemirror_mode": {
    "name": "ipython",
    "version": 3
   },
   "file_extension": ".py",
   "mimetype": "text/x-python",
   "name": "python",
   "nbconvert_exporter": "python",
   "pygments_lexer": "ipython3",
   "version": "3.6.3"
  }
 },
 "nbformat": 4,
 "nbformat_minor": 2
}
