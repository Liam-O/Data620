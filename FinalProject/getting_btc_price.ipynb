{
 "cells": [
  {
   "cell_type": "markdown",
   "metadata": {},
   "source": [
    "Need to get hourly or so BTC prices.  \n",
    "\n",
    "Found this Stackoverflow thread:  \n",
    ">Actually, you CAN get the whole Bitcoin trades history from Bitcoincharts in CSV format here : > http://api.bitcoincharts.com/v1/csv/\n",
    "\n",
    ">it is updated twice a day for active exchanges, and there is a few dead exchanges, too.\n",
    "\n",
    ">EDIT: Since there are no column headers in the CSVs, here's what they are : column 1) the trade's names=None, column 2) the price, column 3) the volume of the trade\n",
    "\n",
    "  \n",
    "Downloaded the data for bitstampUSD: 724 Mb unzipped csv.\n",
    "Let's try"
   ]
  },
  {
   "cell_type": "code",
   "execution_count": 1,
   "metadata": {
    "collapsed": true
   },
   "outputs": [],
   "source": [
    "import pandas as pd\n",
    "import numpy as np\n",
    "import autopep8"
   ]
  },
  {
   "cell_type": "code",
   "execution_count": 2,
   "metadata": {
    "collapsed": true
   },
   "outputs": [],
   "source": [
    "# Matplotlib setup\n",
    "from __future__ import print_function, division\n",
    "import matplotlib as mpl\n",
    "import matplotlib.pyplot as plt\n",
    "%matplotlib inline"
   ]
  },
  {
   "cell_type": "code",
   "execution_count": 3,
   "metadata": {},
   "outputs": [
    {
     "name": "stderr",
     "output_type": "stream",
     "text": [
      "IOPub data rate exceeded.\n",
      "The notebook server will temporarily stop sending output\n",
      "to the client in order to avoid crashing it.\n",
      "To change this limit, set the config variable\n",
      "`--NotebookApp.iopub_data_rate_limit`.\n"
     ]
    }
   ],
   "source": [
    "from plotly.offline import plot, iplot, init_notebook_mode\n",
    "import plotly.graph_objs as go\n",
    "\n",
    "# Make plotly work with Jupyter notebook\n",
    "%matplotlib inline\n",
    "init_notebook_mode()\n",
    "\n",
    "import cufflinks as cf\n",
    "\n",
    "# Add error handler that installs cufflinks if this call above fails:\n",
    "#  ! pip install cufflinks --upgrade\n",
    "\n",
    "# cf.go_offline()"
   ]
  },
  {
   "cell_type": "code",
   "execution_count": 4,
   "metadata": {
    "collapsed": true
   },
   "outputs": [],
   "source": [
    "# Run once to fetch the data and filter it to 2017 only\n",
    "\n",
    "# ADD CONDITION IF ISPATH to skip over this block\n",
    "\n",
    "# Add the code to download and unzip the data from this URL:\n",
    "\n",
    "# http://api.bitcoincharts.com/v1/csv/bitstampUSD.csv.gz (this is the 724Mb file)\n",
    "\n",
    "\n",
    "# inp = pd.read_csv(\"data/bitstampUSD.csv\",names = [\"timestamp\",\"price\", \"volume\"])\n",
    "\n",
    "# inp[\"date_time\"]= pd.to_datetime(inp[\"timestamp\"], unit='s')\\\n",
    "#                  .dt.tz_localize('UTC')\\\n",
    "#                  .dt.tz_convert('America/New_York')\n",
    "        \n",
    "# btc = inp[inp[\"date_time\"]>= \"2017-01-01\"]\n",
    "# btc.to_csv(\"processed_data/bitstampUSD_processed_2017.csv\",index=False)\n",
    "# btc.to_pickle(\"processed_data/bitstampUSD_processed_2017.p\")"
   ]
  },
  {
   "cell_type": "code",
   "execution_count": 5,
   "metadata": {
    "collapsed": true
   },
   "outputs": [],
   "source": [
    "btc = pd.read_pickle(\"processed_data/bitstampUSD_processed_2017.p\")"
   ]
  },
  {
   "cell_type": "code",
   "execution_count": 6,
   "metadata": {},
   "outputs": [
    {
     "data": {
      "text/html": [
       "<div>\n",
       "<style scoped>\n",
       "    .dataframe tbody tr th:only-of-type {\n",
       "        vertical-align: middle;\n",
       "    }\n",
       "\n",
       "    .dataframe tbody tr th {\n",
       "        vertical-align: top;\n",
       "    }\n",
       "\n",
       "    .dataframe thead th {\n",
       "        text-align: right;\n",
       "    }\n",
       "</style>\n",
       "<table border=\"1\" class=\"dataframe\">\n",
       "  <thead>\n",
       "    <tr style=\"text-align: right;\">\n",
       "      <th></th>\n",
       "      <th>timestamp</th>\n",
       "      <th>price</th>\n",
       "      <th>volume</th>\n",
       "      <th>date_time</th>\n",
       "    </tr>\n",
       "  </thead>\n",
       "  <tbody>\n",
       "    <tr>\n",
       "      <th>10240699</th>\n",
       "      <td>1483228868</td>\n",
       "      <td>966.34</td>\n",
       "      <td>1.46000</td>\n",
       "      <td>2016-12-31 19:01:08-05:00</td>\n",
       "    </tr>\n",
       "    <tr>\n",
       "      <th>10240700</th>\n",
       "      <td>1483228873</td>\n",
       "      <td>966.34</td>\n",
       "      <td>1.32000</td>\n",
       "      <td>2016-12-31 19:01:13-05:00</td>\n",
       "    </tr>\n",
       "    <tr>\n",
       "      <th>10240701</th>\n",
       "      <td>1483228888</td>\n",
       "      <td>966.34</td>\n",
       "      <td>4.83000</td>\n",
       "      <td>2016-12-31 19:01:28-05:00</td>\n",
       "    </tr>\n",
       "    <tr>\n",
       "      <th>10240702</th>\n",
       "      <td>1483228926</td>\n",
       "      <td>966.16</td>\n",
       "      <td>2.38000</td>\n",
       "      <td>2016-12-31 19:02:06-05:00</td>\n",
       "    </tr>\n",
       "    <tr>\n",
       "      <th>10240703</th>\n",
       "      <td>1483228926</td>\n",
       "      <td>966.36</td>\n",
       "      <td>2.20029</td>\n",
       "      <td>2016-12-31 19:02:06-05:00</td>\n",
       "    </tr>\n",
       "  </tbody>\n",
       "</table>\n",
       "</div>"
      ],
      "text/plain": [
       "           timestamp   price   volume                 date_time\n",
       "10240699  1483228868  966.34  1.46000 2016-12-31 19:01:08-05:00\n",
       "10240700  1483228873  966.34  1.32000 2016-12-31 19:01:13-05:00\n",
       "10240701  1483228888  966.34  4.83000 2016-12-31 19:01:28-05:00\n",
       "10240702  1483228926  966.16  2.38000 2016-12-31 19:02:06-05:00\n",
       "10240703  1483228926  966.36  2.20029 2016-12-31 19:02:06-05:00"
      ]
     },
     "execution_count": 6,
     "metadata": {},
     "output_type": "execute_result"
    }
   ],
   "source": [
    "btc.head()"
   ]
  },
  {
   "cell_type": "code",
   "execution_count": 7,
   "metadata": {},
   "outputs": [],
   "source": [
    "# Extract time components and initially inspect the dataset\n",
    "\n",
    "btc[\"date\"] = btc.date_time.dt.date\n",
    "btc[\"hour\"] = btc.date_time.dt.hour"
   ]
  },
  {
   "cell_type": "code",
   "execution_count": 8,
   "metadata": {},
   "outputs": [],
   "source": [
    "# Add date time to index and cut out the end of 2016\n",
    "btc.index = btc.date_time\n",
    "btc = btc[\"2017\"]"
   ]
  },
  {
   "cell_type": "code",
   "execution_count": 9,
   "metadata": {},
   "outputs": [],
   "source": [
    "# btc_daily_avg = btc.groupby([\"date\"])[\"price\"].mean()\n",
    "# btc_daily_avg = pd.DataFrame(btc_daily_avg).reset_index() \n",
    "# btc_daily_avg.head()"
   ]
  },
  {
   "cell_type": "code",
   "execution_count": 10,
   "metadata": {},
   "outputs": [],
   "source": [
    "# btc_hourly_avg = btc.groupby([\"date\", \"hour\"])['price'].mean()\n",
    "# btc_hourly_avg = pd.DataFrame(btc_hourly_avg).reset_index() \n",
    "# btc_hourly_avg.head()"
   ]
  },
  {
   "cell_type": "markdown",
   "metadata": {},
   "source": [
    "#### How did the price development look like in 2017?"
   ]
  },
  {
   "cell_type": "code",
   "execution_count": 11,
   "metadata": {},
   "outputs": [
    {
     "ename": "NameError",
     "evalue": "name 'btc_hourly_avg' is not defined",
     "output_type": "error",
     "traceback": [
      "\u001b[0;31m---------------------------------------------------------------------------\u001b[0m",
      "\u001b[0;31mNameError\u001b[0m                                 Traceback (most recent call last)",
      "\u001b[0;32m<ipython-input-11-62ec8f727f67>\u001b[0m in \u001b[0;36m<module>\u001b[0;34m()\u001b[0m\n\u001b[1;32m      1\u001b[0m \u001b[0;31m# Make the daily/hourly plot\u001b[0m\u001b[0;34m\u001b[0m\u001b[0;34m\u001b[0m\u001b[0m\n\u001b[1;32m      2\u001b[0m \u001b[0mplt\u001b[0m\u001b[0;34m.\u001b[0m\u001b[0mfigure\u001b[0m\u001b[0;34m(\u001b[0m\u001b[0mnum\u001b[0m\u001b[0;34m=\u001b[0m\u001b[0;36m1\u001b[0m\u001b[0;34m,\u001b[0m \u001b[0mfigsize\u001b[0m\u001b[0;34m=\u001b[0m\u001b[0;34m(\u001b[0m\u001b[0;36m16\u001b[0m\u001b[0;34m,\u001b[0m \u001b[0;36m8\u001b[0m\u001b[0;34m)\u001b[0m\u001b[0;34m)\u001b[0m\u001b[0;34m\u001b[0m\u001b[0m\n\u001b[0;32m----> 3\u001b[0;31m plt.plot(btc_hourly_avg[\"date\"], btc_hourly_avg[\"price\"], linewidth=1,\n\u001b[0m\u001b[1;32m      4\u001b[0m          color=\"red\", label=r\"hourly avg price\")\n\u001b[1;32m      5\u001b[0m \u001b[0mplt\u001b[0m\u001b[0;34m.\u001b[0m\u001b[0mxlabel\u001b[0m\u001b[0;34m(\u001b[0m\u001b[0;34mr\"Date\"\u001b[0m\u001b[0;34m)\u001b[0m\u001b[0;34m\u001b[0m\u001b[0m\n",
      "\u001b[0;31mNameError\u001b[0m: name 'btc_hourly_avg' is not defined"
     ]
    },
    {
     "data": {
      "text/plain": [
       "<matplotlib.figure.Figure at 0x158650470>"
      ]
     },
     "metadata": {},
     "output_type": "display_data"
    }
   ],
   "source": [
    "# Make the daily/hourly plot\n",
    "plt.figure(num=1, figsize=(16, 8)) \n",
    "plt.plot(btc_hourly_avg[\"date\"], btc_hourly_avg[\"price\"], linewidth=1,\n",
    "         color=\"red\", label=r\"hourly avg price\")\n",
    "plt.xlabel(r\"Date\")\n",
    "plt.ylabel(r\"Avg BTC price (USD)\")\n",
    "plt.title(r\"Daily/hourly average BTC price in 2017\")\n",
    "\n",
    "\n",
    "plt.plot(btc_daily_avg[\"date\"], btc_daily_avg[\"price\"], linewidth=1,\n",
    "         color=\"blue\", label=r\"daily avg price\")\n",
    "\n",
    "plt.legend(loc=\"upper left\")\n",
    "\n",
    "plt.show()"
   ]
  },
  {
   "cell_type": "markdown",
   "metadata": {
    "collapsed": true
   },
   "source": [
    "#### Did the price increase or decrease at the close of the day?"
   ]
  },
  {
   "cell_type": "code",
   "execution_count": 12,
   "metadata": {},
   "outputs": [
    {
     "name": "stderr",
     "output_type": "stream",
     "text": [
      "/Users/dima/anaconda3/lib/python3.6/site-packages/ipykernel_launcher.py:3: FutureWarning:\n",
      "\n",
      "using a dict on a Series for aggregation\n",
      "is deprecated and will be removed in a future version\n",
      "\n"
     ]
    }
   ],
   "source": [
    "btc_ohlc = btc.groupby(\"date\")[\"price\"].agg({\"open\" : \"first\",\"high\": \"max\",\n",
    "                                              \"low\":\"min\",\"close\" : \"last\",\n",
    "                                              \"median\":\"median\"})\n",
    "\n",
    "conditions = [(btc_ohlc['open'] <= btc_ohlc['close'])\n",
    "              ,(btc_ohlc['open'] > btc_ohlc['close'])\n",
    "             ]\n",
    "choices = [\"up\",\"down\"]\n",
    "\n",
    "btc_ohlc['price_change'] = np.select(conditions, choices)\n"
   ]
  },
  {
   "cell_type": "code",
   "execution_count": 13,
   "metadata": {},
   "outputs": [
    {
     "data": {
      "text/html": [
       "<div>\n",
       "<style scoped>\n",
       "    .dataframe tbody tr th:only-of-type {\n",
       "        vertical-align: middle;\n",
       "    }\n",
       "\n",
       "    .dataframe tbody tr th {\n",
       "        vertical-align: top;\n",
       "    }\n",
       "\n",
       "    .dataframe thead th {\n",
       "        text-align: right;\n",
       "    }\n",
       "</style>\n",
       "<table border=\"1\" class=\"dataframe\">\n",
       "  <thead>\n",
       "    <tr style=\"text-align: right;\">\n",
       "      <th></th>\n",
       "      <th>open</th>\n",
       "      <th>high</th>\n",
       "      <th>low</th>\n",
       "      <th>close</th>\n",
       "      <th>median</th>\n",
       "      <th>price_change</th>\n",
       "    </tr>\n",
       "    <tr>\n",
       "      <th>date</th>\n",
       "      <th></th>\n",
       "      <th></th>\n",
       "      <th></th>\n",
       "      <th></th>\n",
       "      <th></th>\n",
       "      <th></th>\n",
       "    </tr>\n",
       "  </thead>\n",
       "  <tbody>\n",
       "    <tr>\n",
       "      <th>2017-01-01</th>\n",
       "      <td>963.02</td>\n",
       "      <td>1005.75</td>\n",
       "      <td>962.80</td>\n",
       "      <td>1005.73</td>\n",
       "      <td>997.625</td>\n",
       "      <td>up</td>\n",
       "    </tr>\n",
       "    <tr>\n",
       "      <th>2017-01-02</th>\n",
       "      <td>1005.48</td>\n",
       "      <td>1032.00</td>\n",
       "      <td>990.01</td>\n",
       "      <td>1023.57</td>\n",
       "      <td>1014.920</td>\n",
       "      <td>up</td>\n",
       "    </tr>\n",
       "    <tr>\n",
       "      <th>2017-01-03</th>\n",
       "      <td>1023.59</td>\n",
       "      <td>1046.00</td>\n",
       "      <td>1009.08</td>\n",
       "      <td>1042.64</td>\n",
       "      <td>1020.290</td>\n",
       "      <td>up</td>\n",
       "    </tr>\n",
       "    <tr>\n",
       "      <th>2017-01-04</th>\n",
       "      <td>1042.34</td>\n",
       "      <td>1139.89</td>\n",
       "      <td>1038.35</td>\n",
       "      <td>1118.05</td>\n",
       "      <td>1090.980</td>\n",
       "      <td>up</td>\n",
       "    </tr>\n",
       "    <tr>\n",
       "      <th>2017-01-05</th>\n",
       "      <td>1118.05</td>\n",
       "      <td>1136.72</td>\n",
       "      <td>885.41</td>\n",
       "      <td>970.10</td>\n",
       "      <td>983.500</td>\n",
       "      <td>down</td>\n",
       "    </tr>\n",
       "    <tr>\n",
       "      <th>2017-01-06</th>\n",
       "      <td>969.92</td>\n",
       "      <td>989.97</td>\n",
       "      <td>821.22</td>\n",
       "      <td>836.74</td>\n",
       "      <td>894.860</td>\n",
       "      <td>down</td>\n",
       "    </tr>\n",
       "    <tr>\n",
       "      <th>2017-01-07</th>\n",
       "      <td>837.48</td>\n",
       "      <td>938.00</td>\n",
       "      <td>812.28</td>\n",
       "      <td>937.05</td>\n",
       "      <td>885.010</td>\n",
       "      <td>up</td>\n",
       "    </tr>\n",
       "    <tr>\n",
       "      <th>2017-01-08</th>\n",
       "      <td>938.00</td>\n",
       "      <td>941.81</td>\n",
       "      <td>875.00</td>\n",
       "      <td>884.65</td>\n",
       "      <td>908.340</td>\n",
       "      <td>down</td>\n",
       "    </tr>\n",
       "    <tr>\n",
       "      <th>2017-01-09</th>\n",
       "      <td>885.01</td>\n",
       "      <td>910.58</td>\n",
       "      <td>879.94</td>\n",
       "      <td>895.62</td>\n",
       "      <td>894.250</td>\n",
       "      <td>up</td>\n",
       "    </tr>\n",
       "    <tr>\n",
       "      <th>2017-01-10</th>\n",
       "      <td>895.48</td>\n",
       "      <td>912.47</td>\n",
       "      <td>889.41</td>\n",
       "      <td>908.85</td>\n",
       "      <td>904.330</td>\n",
       "      <td>up</td>\n",
       "    </tr>\n",
       "  </tbody>\n",
       "</table>\n",
       "</div>"
      ],
      "text/plain": [
       "               open     high      low    close    median price_change\n",
       "date                                                                 \n",
       "2017-01-01   963.02  1005.75   962.80  1005.73   997.625           up\n",
       "2017-01-02  1005.48  1032.00   990.01  1023.57  1014.920           up\n",
       "2017-01-03  1023.59  1046.00  1009.08  1042.64  1020.290           up\n",
       "2017-01-04  1042.34  1139.89  1038.35  1118.05  1090.980           up\n",
       "2017-01-05  1118.05  1136.72   885.41   970.10   983.500         down\n",
       "2017-01-06   969.92   989.97   821.22   836.74   894.860         down\n",
       "2017-01-07   837.48   938.00   812.28   937.05   885.010           up\n",
       "2017-01-08   938.00   941.81   875.00   884.65   908.340         down\n",
       "2017-01-09   885.01   910.58   879.94   895.62   894.250           up\n",
       "2017-01-10   895.48   912.47   889.41   908.85   904.330           up"
      ]
     },
     "execution_count": 13,
     "metadata": {},
     "output_type": "execute_result"
    }
   ],
   "source": [
    "btc_ohlc.head(10)"
   ]
  },
  {
   "cell_type": "code",
   "execution_count": 14,
   "metadata": {},
   "outputs": [
    {
     "data": {
      "image/png": "[encoded data removed]",
      "text/plain": [
       "<matplotlib.figure.Figure at 0x15848f5c0>"
      ]
     },
     "metadata": {},
     "output_type": "display_data"
    }
   ],
   "source": [
    "# Make the o-c plot\n",
    "df = btc_ohlc[pd.to_datetime(\"2017-10-01\").date():]\n",
    "\n",
    "plt.figure(num=1, figsize=(16, 8)) \n",
    "plt.step(df.index, df[\"open\"], linewidth=1,\n",
    "         color=\"black\", label=r\"open price\")\n",
    "plt.xlabel(r\"Date\")\n",
    "plt.ylabel(r\"BTC price (USD)\")\n",
    "plt.title(r\"Daily open and close BTC price in 2017\")\n",
    "\n",
    "plt.step(df.index, df[\"close\"], linewidth=2,\n",
    "         color=\"red\", label=r\"close price\")\n",
    "\n",
    "# plt.bar(x=df.index, height=df[\"close\"], color = \"grey\", width = -0.4,align=\"center\")\n",
    "plt.legend(loc=\"upper left\")\n",
    "\n",
    "plt.show()"
   ]
  },
  {
   "cell_type": "code",
   "execution_count": 15,
   "metadata": {},
   "outputs": [
    {
     "data": {
      "text/html": [
       "<div>\n",
       "<style scoped>\n",
       "    .dataframe tbody tr th:only-of-type {\n",
       "        vertical-align: middle;\n",
       "    }\n",
       "\n",
       "    .dataframe tbody tr th {\n",
       "        vertical-align: top;\n",
       "    }\n",
       "\n",
       "    .dataframe thead th {\n",
       "        text-align: right;\n",
       "    }\n",
       "</style>\n",
       "<table border=\"1\" class=\"dataframe\">\n",
       "  <thead>\n",
       "    <tr style=\"text-align: right;\">\n",
       "      <th></th>\n",
       "      <th>open</th>\n",
       "      <th>high</th>\n",
       "      <th>low</th>\n",
       "      <th>close</th>\n",
       "      <th>median</th>\n",
       "    </tr>\n",
       "    <tr>\n",
       "      <th>price_change</th>\n",
       "      <th></th>\n",
       "      <th></th>\n",
       "      <th></th>\n",
       "      <th></th>\n",
       "      <th></th>\n",
       "    </tr>\n",
       "  </thead>\n",
       "  <tbody>\n",
       "    <tr>\n",
       "      <th>down</th>\n",
       "      <td>130</td>\n",
       "      <td>130</td>\n",
       "      <td>130</td>\n",
       "      <td>130</td>\n",
       "      <td>130</td>\n",
       "    </tr>\n",
       "    <tr>\n",
       "      <th>up</th>\n",
       "      <td>216</td>\n",
       "      <td>216</td>\n",
       "      <td>216</td>\n",
       "      <td>216</td>\n",
       "      <td>216</td>\n",
       "    </tr>\n",
       "  </tbody>\n",
       "</table>\n",
       "</div>"
      ],
      "text/plain": [
       "              open  high  low  close  median\n",
       "price_change                                \n",
       "down           130   130  130    130     130\n",
       "up             216   216  216    216     216"
      ]
     },
     "execution_count": 15,
     "metadata": {},
     "output_type": "execute_result"
    }
   ],
   "source": [
    "btc_ohlc.groupby(\"price_change\").count()"
   ]
  },
  {
   "cell_type": "code",
   "execution_count": 23,
   "metadata": {},
   "outputs": [],
   "source": [
    "btc[\"dt_6h\"] = (pd.DatetimeIndex(btc['date_time'])).round(\"6H\")"
   ]
  },
  {
   "cell_type": "code",
   "execution_count": 26,
   "metadata": {},
   "outputs": [
    {
     "name": "stderr",
     "output_type": "stream",
     "text": [
      "/Users/dima/anaconda3/lib/python3.6/site-packages/ipykernel_launcher.py:3: FutureWarning:\n",
      "\n",
      "using a dict on a Series for aggregation\n",
      "is deprecated and will be removed in a future version\n",
      "\n"
     ]
    }
   ],
   "source": [
    "btc_ohlc_6h = btc.groupby(\"dt_6h\")[\"price\"].agg({\"open\" : \"first\",\"high\": \"max\",\n",
    "                                              \"low\":\"min\",\"close\" : \"last\",\n",
    "                                              \"median\":\"median\"})"
   ]
  },
  {
   "cell_type": "code",
   "execution_count": 28,
   "metadata": {},
   "outputs": [
    {
     "data": {
      "text/html": [
       "<div>\n",
       "<style scoped>\n",
       "    .dataframe tbody tr th:only-of-type {\n",
       "        vertical-align: middle;\n",
       "    }\n",
       "\n",
       "    .dataframe tbody tr th {\n",
       "        vertical-align: top;\n",
       "    }\n",
       "\n",
       "    .dataframe thead th {\n",
       "        text-align: right;\n",
       "    }\n",
       "</style>\n",
       "<table border=\"1\" class=\"dataframe\">\n",
       "  <thead>\n",
       "    <tr style=\"text-align: right;\">\n",
       "      <th></th>\n",
       "      <th>open</th>\n",
       "      <th>high</th>\n",
       "      <th>low</th>\n",
       "      <th>close</th>\n",
       "      <th>median</th>\n",
       "    </tr>\n",
       "    <tr>\n",
       "      <th>price_change</th>\n",
       "      <th></th>\n",
       "      <th></th>\n",
       "      <th></th>\n",
       "      <th></th>\n",
       "      <th></th>\n",
       "    </tr>\n",
       "  </thead>\n",
       "  <tbody>\n",
       "    <tr>\n",
       "      <th>down</th>\n",
       "      <td>596</td>\n",
       "      <td>596</td>\n",
       "      <td>596</td>\n",
       "      <td>596</td>\n",
       "      <td>596</td>\n",
       "    </tr>\n",
       "    <tr>\n",
       "      <th>up</th>\n",
       "      <td>786</td>\n",
       "      <td>786</td>\n",
       "      <td>786</td>\n",
       "      <td>786</td>\n",
       "      <td>786</td>\n",
       "    </tr>\n",
       "  </tbody>\n",
       "</table>\n",
       "</div>"
      ],
      "text/plain": [
       "              open  high  low  close  median\n",
       "price_change                                \n",
       "down           596   596  596    596     596\n",
       "up             786   786  786    786     786"
      ]
     },
     "execution_count": 28,
     "metadata": {},
     "output_type": "execute_result"
    }
   ],
   "source": [
    "conditions = [(btc_ohlc_6h['open'] <= btc_ohlc_6h['close'])\n",
    "              ,(btc_ohlc_6h['open'] > btc_ohlc_6h['close'])\n",
    "             ]\n",
    "choices = [\"up\",\"down\"]\n",
    "\n",
    "btc_ohlc_6h['price_change'] = np.select(conditions, choices)\n",
    "btc_ohlc_6h.groupby(\"price_change\").count()"
   ]
  },
  {
   "cell_type": "code",
   "execution_count": 32,
   "metadata": {},
   "outputs": [
    {
     "data": {
      "image/png": "[encoded data removed]",
      "text/plain": [
       "<matplotlib.figure.Figure at 0x1584c5860>"
      ]
     },
     "metadata": {},
     "output_type": "display_data"
    }
   ],
   "source": [
    "# Make the o-c plot\n",
    "df = btc_ohlc_6h[pd.to_datetime(\"2017-10-01\").date():]\n",
    "\n",
    "plt.figure(num=1, figsize=(16, 8)) \n",
    "plt.step(df.index, df[\"open\"], linewidth=1,\n",
    "         color=\"black\", label=r\"open price\")\n",
    "plt.xlabel(r\"Date\")\n",
    "plt.ylabel(r\"BTC price (USD)\")\n",
    "plt.title(r\"Daily open and close BTC price in 2017\")\n",
    "\n",
    "plt.step(df.index, df[\"close\"], linewidth=2,\n",
    "         color=\"red\", label=r\"close price\")\n",
    "\n",
    "# plt.bar(x=df.index, height=df[\"close\"], color = \"grey\", width = -0.4,align=\"center\")\n",
    "plt.legend(loc=\"upper left\")\n",
    "\n",
    "plt.show()"
   ]
  },
  {
   "cell_type": "code",
   "execution_count": null,
   "metadata": {
    "collapsed": true
   },
   "outputs": [],
   "source": [
    "btc_ohlc.to_csv()"
   ]
  },
  {
   "cell_type": "markdown",
   "metadata": {},
   "source": [
    "### Reference\n",
    "\n",
    "https://pandas.pydata.org/pandas-docs/stable/index.html  \n",
    "http://mple.m-artwork.eu/tutorial  \n",
    "Pandas Ifelse selection https://stackoverflow.com/a/19913845/8066374  "
   ]
  }
 ],
 "metadata": {
  "kernelspec": {
   "display_name": "Python 3",
   "language": "python",
   "name": "python3"
  },
  "language_info": {
   "codemirror_mode": {
    "name": "ipython",
    "version": 3
   },
   "file_extension": ".py",
   "mimetype": "text/x-python",
   "name": "python",
   "nbconvert_exporter": "python",
   "pygments_lexer": "ipython3",
   "version": "3.6.3"
  }
 },
 "nbformat": 4,
 "nbformat_minor": 2
}
