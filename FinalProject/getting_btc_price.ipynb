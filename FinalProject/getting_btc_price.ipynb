{
 "cells": [
  {
   "cell_type": "markdown",
   "metadata": {},
   "source": [
    "Need to get hourly or so BTC prices.  \n",
    "\n",
    "Found this Stackoverflow thread:  \n",
    ">Actually, you CAN get the whole Bitcoin trades history from Bitcoincharts in CSV format here : > http://api.bitcoincharts.com/v1/csv/\n",
    "\n",
    ">it is updated twice a day for active exchanges, and there is a few dead exchanges, too.\n",
    "\n",
    ">EDIT: Since there are no column headers in the CSVs, here's what they are : column 1) the trade's names=None, column 2) the price, column 3) the volume of the trade\n",
    "\n",
    "  \n",
    "Downloaded the data for bitstampUSD: 724 Mb unzipped csv.\n",
    "Let's try"
   ]
  },
  {
   "cell_type": "code",
   "execution_count": 2,
   "metadata": {
    "collapsed": true
   },
   "outputs": [],
   "source": [
    "import pandas as pd\n",
    "import numpy as np"
   ]
  },
  {
   "cell_type": "code",
   "execution_count": null,
   "metadata": {
    "collapsed": true
   },
   "outputs": [],
   "source": []
  },
  {
   "cell_type": "code",
   "execution_count": 3,
   "metadata": {},
   "outputs": [],
   "source": [
    "# Run once to fetch the data and filter it to 2017 only\n",
    "\n",
    "# ADD CONDITION IF ISPATH to skip over this block\n",
    "\n",
    "# Add the code to download and unzip the data from this URL:\n",
    "\n",
    "# http://api.bitcoincharts.com/v1/csv/bitstampUSD.csv.gz (this is the 724Mb file)\n",
    "\n",
    "\n",
    "# inp = pd.read_csv(\"data/bitstampUSD.csv\",names = [\"timestamp\",\"price\", \"volume\"])\n",
    "\n",
    "# inp[\"date_time\"]= pd.to_datetime(inp[\"timestamp\"], unit='s')\\\n",
    "#                  .dt.tz_localize('UTC')\\\n",
    "#                  .dt.tz_convert('America/New_York')\n",
    "        \n",
    "# btc = inp[inp[\"date_time\"]>= \"2017-01-01\"]\n",
    "# btc.to_csv(\"processed_data/bitstampUSD_processed_2017.csv\",index=False)\n",
    "# btc.to_pickle(\"processed_data/bitstampUSD_processed_2017.p\")"
   ]
  },
  {
   "cell_type": "code",
   "execution_count": 5,
   "metadata": {},
   "outputs": [],
   "source": []
  },
  {
   "cell_type": "code",
   "execution_count": null,
   "metadata": {
    "collapsed": true
   },
   "outputs": [],
   "source": []
  }
 ],
 "metadata": {
  "kernelspec": {
   "display_name": "Python 3",
   "language": "python",
   "name": "python3"
  },
  "language_info": {
   "codemirror_mode": {
    "name": "ipython",
    "version": 3
   },
   "file_extension": ".py",
   "mimetype": "text/x-python",
   "name": "python",
   "nbconvert_exporter": "python",
   "pygments_lexer": "ipython3",
   "version": "3.6.3"
  }
 },
 "nbformat": 4,
 "nbformat_minor": 2
}
